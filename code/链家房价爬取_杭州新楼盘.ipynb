{
 "cells": [
  {
   "cell_type": "code",
   "execution_count": 6,
   "metadata": {},
   "outputs": [],
   "source": [
    "import pickle\n",
    "import random"
   ]
  },
  {
   "cell_type": "code",
   "execution_count": 7,
   "metadata": {},
   "outputs": [],
   "source": [
    "def getUserAgent():\n",
    "    UA_list = [\n",
    "        \"Mozilla/5.0 (Windows NT 10.0; WOW64) AppleWebKit/537.36 (KHTML, like Gecko) Chrome/55.0.2883.87 Safari/537.36\",\n",
    "        \"Mozilla/5.0 (iPhone; CPU iPhone OS 7_1_2 like Mac OS X) App leWebKit/537.51.2 (KHTML, like Gecko) Version/7.0 Mobile/11D257 Safari/9537.53\",\n",
    "        \"Mozilla/5.0 (Windows; U; Windows NT 5.2) AppleWebKit/525.13 (KHTML, like Gecko) Chrome/0.2.149.27 Safari/525.13\",\n",
    "        \"Mozilla/4.0 (compatible; MSIE 8.0; Windows NT 5.1; Trident/4.0; Mozilla/4.0 (compatible; MSIE 6.0; Windows NT 5.1; SV1) ;  QIHU 360EE)\",\n",
    "        \"Mozilla/4.0 (compatible; MSIE 7.0; Windows NT 5.1; Trident/4.0; Mozilla/4.0 (compatible; MSIE 6.0; Windows NT 5.1; SV1) ; Maxthon/3.0)\",\n",
    "        \"Mozilla/5.0 (Macintosh; U; Intel Mac OS X 10_6_8; en-us) AppleWebKit/534.50 (KHTML, like Gecko) Version/5.1 Safari/534.50\",\n",
    "        \"Mozilla/5.0 (Macintosh; U; IntelMac OS X 10_6_8; en-us) AppleWebKit/534.50 (KHTML, like Gecko) Version/5.1Safari/534.50\",\n",
    "        \"Mozilla/5.0 (Windows NT 10.0; WOW64; rv:51.0) Gecko/20100101 Firefox/51.0\",\n",
    "        \"Mozilla/5.0 (Windows NT 6.1; WOW64) AppleWebKit/537.1 (KHTML, like Gecko) Chrome/22.0.1207.1 Safari/537.1\",\n",
    "        \"Mozilla/5.0 (X11; CrOS i686 2268.111.0) AppleWebKit/536.11 (KHTML, like Gecko) Chrome/20.0.1132.57 Safari/536.11\",\n",
    "        \"Mozilla/5.0 (Windows NT 6.1; WOW64) AppleWebKit/536.6 (KHTML, like Gecko) Chrome/20.0.1092.0 Safari/536.6\",\n",
    "        \"Mozilla/5.0 (Windows NT 6.2) AppleWebKit/536.6 (KHTML, like Gecko) Chrome/20.0.1090.0 Safari/536.6\",\n",
    "        \"Mozilla/5.0 (Windows NT 6.2; WOW64) AppleWebKit/537.1 (KHTML, like Gecko) Chrome/19.77.34.5 Safari/537.1\",\n",
    "        \"Mozilla/5.0 (X11; Linux x86_64) AppleWebKit/536.5 (KHTML, like Gecko) Chrome/19.0.1084.9 Safari/536.5\",\n",
    "        \"Mozilla/5.0 (Windows NT 6.0) AppleWebKit/536.5 (KHTML, like Gecko) Chrome/19.0.1084.36 Safari/536.5\",\n",
    "        \"Mozilla/5.0 (Windows NT 6.1; WOW64) AppleWebKit/536.3 (KHTML, like Gecko) Chrome/19.0.1063.0 Safari/536.3\",\n",
    "        \"Mozilla/5.0 (Windows NT 5.1) AppleWebKit/536.3 (KHTML, like Gecko) Chrome/19.0.1063.0 Safari/536.3\",\n",
    "        \"Mozilla/5.0 (Macintosh; Intel Mac OS X 10_8_0) AppleWebKit/536.3 (KHTML, like Gecko) Chrome/19.0.1063.0 Safari/536.3\",\n",
    "        \"Mozilla/5.0 (Windows NT 6.2) AppleWebKit/536.3 (KHTML, like Gecko) Chrome/19.0.1062.0 Safari/536.3\",\n",
    "        \"Mozilla/5.0 (Windows NT 6.1; WOW64) AppleWebKit/536.3 (KHTML, like Gecko) Chrome/19.0.1062.0 Safari/536.3\",\n",
    "        \"Mozilla/5.0 (Windows NT 6.2) AppleWebKit/536.3 (KHTML, like Gecko) Chrome/19.0.1061.1 Safari/536.3\",\n",
    "        \"Mozilla/5.0 (Windows NT 6.1; WOW64) AppleWebKit/536.3 (KHTML, like Gecko) Chrome/19.0.1061.1 Safari/536.3\",\n",
    "        \"Mozilla/5.0 (Windows NT 6.1) AppleWebKit/536.3 (KHTML, like Gecko) Chrome/19.0.1061.1 Safari/536.3\",\n",
    "        \"Mozilla/5.0 (Windows NT 6.2) AppleWebKit/536.3 (KHTML, like Gecko) Chrome/19.0.1061.0 Safari/536.3\",\n",
    "        \"Mozilla/5.0 (X11; Linux x86_64) AppleWebKit/535.24 (KHTML, like Gecko) Chrome/19.0.1055.1 Safari/535.24\",\n",
    "        \"Mozilla/5.0 (Windows NT 6.2; WOW64) AppleWebKit/535.24 (KHTML, like Gecko) Chrome/19.0.1055.1 Safari/535.24\"]\n",
    "    return random.choice(UA_list)"
   ]
  },
  {
   "cell_type": "code",
   "execution_count": 30,
   "metadata": {},
   "outputs": [
    {
     "name": "stdout",
     "output_type": "stream",
     "text": [
      "pg 81\n",
      "li_list [<Element li at 0x267eb6930c8>, <Element li at 0x267ec850308>, <Element li at 0x267ec850748>, <Element li at 0x267ec850208>]\n",
      "{'house_name': ['蓝色嘉园'], 'total_price': [], 'unit_price': ['价格待定'], 'unit_price_desc': [], 'type': ['住宅'], 'location1': ['萧山'], 'area': []}\n",
      "{'house_name': ['赞成乐山红叶'], 'total_price': [], 'unit_price': ['1080'], 'unit_price_desc': ['\\xa0(万/套)(总价)'], 'type': ['别墅'], 'location1': ['余杭'], 'area': ['建面 240㎡']}\n",
      "{'house_name': ['东渡酩悦'], 'total_price': ['总价200(万/套)'], 'unit_price': ['40000'], 'unit_price_desc': ['\\xa0元/㎡(均价)'], 'type': ['商业类'], 'location1': ['上城'], 'area': ['建面 51㎡']}\n",
      "{'house_name': ['世茂智慧之门'], 'total_price': [], 'unit_price': ['价格待定'], 'unit_price_desc': [], 'type': ['商业类'], 'location1': ['滨江'], 'area': []}\n",
      "执行时间为：3.51\n"
     ]
    }
   ],
   "source": [
    "# 时间：2022/1/1 21:57\n",
    "import requests\n",
    "from lxml import etree\n",
    "import time\n",
    "import csv\n",
    "class Lianjiaspider(object):\n",
    "    def __init__(self):\n",
    "#         self.url='https://sh.lianjia.com/ershoufang/pg{}/'\n",
    "        self.url = 'https://hz.fang.lianjia.com/loupan/pg{}/'\n",
    "#         self.henders={'User-Agent': 'Mozilla/5.0 (Windows NT 10.0; Win64; x64) AppleWebKit/537.36 (KHTML, like Gecko) Chrome/95.0.4638.54 Safari/537.36'}\n",
    "        \n",
    "    def get_page(self,url):\n",
    "        time.sleep(3)\n",
    "        self.henders={'User-Agent':getUserAgent()}\n",
    "        respones=requests.get(url=url,headers=self.henders)\n",
    "        respones.encoding='utf-8'\n",
    "        html=respones.text\n",
    "#         print(html)\n",
    "        return self.parse_page(html)\n",
    "        \n",
    "    def parse_page(self,html):\n",
    "        paser_html=etree.HTML(html)\n",
    "        parse_page_result = {}\n",
    "#         df = pd.DataFrame(columns = [['house_name', 'total_price', 'unit_price', 'unit_price_desc']])\n",
    "#         li_list = paser_html.xpath('.//ul[@class=\"resblock-list-wrapper\"]/li[@class=\"resblock-list post_ulog_exposure_scroll\"]')\n",
    "        li_list = paser_html.xpath('//ul[@class=\"resblock-list-wrapper\"]/li[@class=\"resblock-list post_ulog_exposure_scroll has-results\"]')\n",
    "        print('li_list',li_list)\n",
    "        for i in range(len(li_list)):\n",
    "            li = li_list[i]\n",
    "            house_dict = {}\n",
    "            # 名称\n",
    "            house_dict['house_name'] = li.xpath('.//div[@class=\"resblock-name\"]/a/text()')#.strip()\n",
    "            # 总价\n",
    "            house_dict['total_price']=li.xpath('.//div[@class=\"second\"]/text()')#[0].strip()\n",
    "            # 单价\n",
    "            house_dict['unit_price']=li.xpath('.//div[@class=\"main-price\"]/span[@class=\"number\"]/text()')#[0].strip()\n",
    "            house_dict['unit_price_desc']=li.xpath('.//div[@class=\"main-price\"]/span[@class=\"desc\"]/text()')#[0].strip()\n",
    "            # 房屋类型\n",
    "            house_dict['type']=li.xpath('.//div[@class=\"resblock-name\"]/span[1]/text()')\n",
    "            # 房屋所在区\n",
    "            house_dict['location1']=li.xpath('.//div[@class=\"resblock-location\"]/span[1]/text()')\n",
    "            # 房屋面积\n",
    "            house_dict['area']=li.xpath('.//div[@class=\"resblock-area\"]/span[1]/text()')\n",
    "            \n",
    "            print(house_dict)\n",
    "            parse_page_result[i] = house_dict\n",
    "        return parse_page_result\n",
    "            \n",
    "    def main(self):\n",
    "        self.main_result = {}\n",
    "        for pg in range(81,82):#81\n",
    "            print('pg',pg)\n",
    "            url=self.url.format(pg)\n",
    "            self.main_result['pg'+str(pg)] = self.get_page(url)\n",
    "\n",
    "if __name__ == \"__main__\":\n",
    "    start=time.time()\n",
    "    lianjia=Lianjiaspider()\n",
    "    lianjia.main()\n",
    "    end=time.time()\n",
    "    print('执行时间为：%0.2f'%(end - start))\n",
    "\n",
    "\n"
   ]
  },
  {
   "cell_type": "code",
   "execution_count": 31,
   "metadata": {},
   "outputs": [],
   "source": [
    "# 暂时存一下爬取结果：爬到85页时，要求进行验证，所以手动进行验证后，重新从85页开始爬取\n",
    "# result_0_84 = lianjia.main_result\n",
    "# result_85_90 = \n",
    "# result_1_3 = lianjia.main_result\n",
    "# result_4_80 = lianjia.main_result\n",
    "# result_81 = lianjia.main_result"
   ]
  },
  {
   "cell_type": "code",
   "execution_count": 33,
   "metadata": {},
   "outputs": [],
   "source": [
    "hangzhou_new = result_1_3.copy()\n",
    "hangzhou_new.update(result_4_80)\n",
    "hangzhou_new.update(result_81)\n",
    "# 保存\n",
    "def pkl_save(filename, file):\n",
    "    #将file保存到filename中\n",
    "    output = open(filename, 'wb')\n",
    "    pickle.dump(file, output)\n",
    "    output.close()\n",
    "    \n",
    "filename = './hangzhou_new.pkl' # 文件名\n",
    "file = hangzhou_new # 文件\n",
    "pkl_save(filename, file)"
   ]
  }
 ],
 "metadata": {
  "kernelspec": {
   "display_name": "Python 3",
   "language": "python",
   "name": "python3"
  },
  "language_info": {
   "codemirror_mode": {
    "name": "ipython",
    "version": 3
   },
   "file_extension": ".py",
   "mimetype": "text/x-python",
   "name": "python",
   "nbconvert_exporter": "python",
   "pygments_lexer": "ipython3",
   "version": "3.7.3"
  }
 },
 "nbformat": 4,
 "nbformat_minor": 2
}
