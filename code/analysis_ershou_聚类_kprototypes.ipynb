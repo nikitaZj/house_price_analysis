{
 "cells": [
  {
   "cell_type": "code",
   "execution_count": 94,
   "metadata": {},
   "outputs": [],
   "source": [
    "import pandas as pd\n",
    "import matplotlib.pyplot as plt\n",
    "from sklearn import preprocessing\n",
    "import pickle\n",
    "import time\n",
    "import multiprocessing\n",
    "plt.rcParams['font.sans-serif']=['SimHei']\n",
    "plt.rcParams['axes.unicode_minus'] = False"
   ]
  },
  {
   "cell_type": "code",
   "execution_count": 2,
   "metadata": {},
   "outputs": [],
   "source": [
    "df_shanghai = pd.read_csv('sh_ershou_clean.csv', index_col = 0)\n",
    "df_hangzhou = pd.read_csv('hz_ershou_clean.csv', index_col = 0)"
   ]
  },
  {
   "cell_type": "code",
   "execution_count": 3,
   "metadata": {},
   "outputs": [
    {
     "name": "stdout",
     "output_type": "stream",
     "text": [
      "df_shanghai.shape:(14780, 7)\n",
      "df_hangzhou.shape:(35942, 7)\n"
     ]
    }
   ],
   "source": [
    "print('df_shanghai.shape:{}'.format(df_shanghai.shape))\n",
    "print('df_hangzhou.shape:{}'.format(df_hangzhou.shape))"
   ]
  },
  {
   "cell_type": "code",
   "execution_count": 6,
   "metadata": {},
   "outputs": [],
   "source": [
    "df_shanghai['year'] = df_shanghai['info'].str.extract('([\\d]+)年').astype('float')\n",
    "df_shanghai['age'] = 2022-df_shanghai.year\n",
    "# df_hangzhou['year'] = df_hangzhou['info'].str.extract('([\\d]+)年').astype('float')\n",
    "# 杭州数据没有建房年份"
   ]
  },
  {
   "cell_type": "code",
   "execution_count": 19,
   "metadata": {},
   "outputs": [
    {
     "data": {
      "text/html": [
       "<div>\n",
       "<style scoped>\n",
       "    .dataframe tbody tr th:only-of-type {\n",
       "        vertical-align: middle;\n",
       "    }\n",
       "\n",
       "    .dataframe tbody tr th {\n",
       "        vertical-align: top;\n",
       "    }\n",
       "\n",
       "    .dataframe thead th {\n",
       "        text-align: right;\n",
       "    }\n",
       "</style>\n",
       "<table border=\"1\" class=\"dataframe\">\n",
       "  <thead>\n",
       "    <tr style=\"text-align: right;\">\n",
       "      <th></th>\n",
       "      <th>total_price</th>\n",
       "      <th>unit_price</th>\n",
       "      <th>area</th>\n",
       "      <th>year</th>\n",
       "      <th>age</th>\n",
       "    </tr>\n",
       "  </thead>\n",
       "  <tbody>\n",
       "    <tr>\n",
       "      <th>count</th>\n",
       "      <td>14780.000000</td>\n",
       "      <td>14780.000000</td>\n",
       "      <td>14780.000000</td>\n",
       "      <td>13498.000000</td>\n",
       "      <td>13498.000000</td>\n",
       "    </tr>\n",
       "    <tr>\n",
       "      <th>mean</th>\n",
       "      <td>514.321616</td>\n",
       "      <td>60010.600474</td>\n",
       "      <td>85.362117</td>\n",
       "      <td>1999.543932</td>\n",
       "      <td>22.456068</td>\n",
       "    </tr>\n",
       "    <tr>\n",
       "      <th>std</th>\n",
       "      <td>520.297698</td>\n",
       "      <td>28833.133598</td>\n",
       "      <td>58.490598</td>\n",
       "      <td>11.070863</td>\n",
       "      <td>11.070863</td>\n",
       "    </tr>\n",
       "    <tr>\n",
       "      <th>min</th>\n",
       "      <td>36.000000</td>\n",
       "      <td>9743.000000</td>\n",
       "      <td>8.680000</td>\n",
       "      <td>1911.000000</td>\n",
       "      <td>2.000000</td>\n",
       "    </tr>\n",
       "    <tr>\n",
       "      <th>25%</th>\n",
       "      <td>253.000000</td>\n",
       "      <td>38246.500000</td>\n",
       "      <td>51.907500</td>\n",
       "      <td>1994.000000</td>\n",
       "      <td>14.000000</td>\n",
       "    </tr>\n",
       "    <tr>\n",
       "      <th>50%</th>\n",
       "      <td>385.000000</td>\n",
       "      <td>58976.500000</td>\n",
       "      <td>72.880000</td>\n",
       "      <td>1999.000000</td>\n",
       "      <td>23.000000</td>\n",
       "    </tr>\n",
       "    <tr>\n",
       "      <th>75%</th>\n",
       "      <td>600.000000</td>\n",
       "      <td>77363.750000</td>\n",
       "      <td>101.985000</td>\n",
       "      <td>2008.000000</td>\n",
       "      <td>28.000000</td>\n",
       "    </tr>\n",
       "    <tr>\n",
       "      <th>max</th>\n",
       "      <td>17800.000000</td>\n",
       "      <td>451777.000000</td>\n",
       "      <td>1547.730000</td>\n",
       "      <td>2020.000000</td>\n",
       "      <td>111.000000</td>\n",
       "    </tr>\n",
       "  </tbody>\n",
       "</table>\n",
       "</div>"
      ],
      "text/plain": [
       "        total_price     unit_price          area          year           age\n",
       "count  14780.000000   14780.000000  14780.000000  13498.000000  13498.000000\n",
       "mean     514.321616   60010.600474     85.362117   1999.543932     22.456068\n",
       "std      520.297698   28833.133598     58.490598     11.070863     11.070863\n",
       "min       36.000000    9743.000000      8.680000   1911.000000      2.000000\n",
       "25%      253.000000   38246.500000     51.907500   1994.000000     14.000000\n",
       "50%      385.000000   58976.500000     72.880000   1999.000000     23.000000\n",
       "75%      600.000000   77363.750000    101.985000   2008.000000     28.000000\n",
       "max    17800.000000  451777.000000   1547.730000   2020.000000    111.000000"
      ]
     },
     "execution_count": 19,
     "metadata": {},
     "output_type": "execute_result"
    }
   ],
   "source": [
    "df_shanghai.describe()"
   ]
  },
  {
   "cell_type": "markdown",
   "metadata": {},
   "source": [
    "对上海数据进行聚类"
   ]
  },
  {
   "cell_type": "code",
   "execution_count": 56,
   "metadata": {},
   "outputs": [],
   "source": [
    "# 对数值型数据进行标准化\n",
    "t= preprocessing.StandardScaler().fit(df_shanghai[df_shanghai.describe().columns])\n",
    "df_shanghai_processed = pd.DataFrame(t.transform(df_shanghai[df_shanghai.describe().columns]))\n",
    "df_shanghai_processed.columns = df_shanghai.describe().columns"
   ]
  },
  {
   "cell_type": "code",
   "execution_count": 57,
   "metadata": {},
   "outputs": [],
   "source": [
    "# 类别型变量进行labelenconding\n",
    "df_shanghai_processed['location1'] = df_shanghai.location1\n",
    "le = preprocessing.LabelEncoder()\n",
    "df_shanghai_processed['location1'] = le.fit_transform(df_shanghai_processed['location1'])"
   ]
  },
  {
   "cell_type": "code",
   "execution_count": 61,
   "metadata": {},
   "outputs": [],
   "source": [
    "# 将label_encoding的映射关系记录下来\n",
    "def pkl_save(filename, file):\n",
    "    #将file保存到filename中\n",
    "    output = open(filename, 'wb')\n",
    "    pickle.dump(file, output)\n",
    "    output.close()\n",
    "\n",
    "pkl_save('shanghai_location1_labelencoding.pkl', le)"
   ]
  },
  {
   "cell_type": "code",
   "execution_count": 62,
   "metadata": {},
   "outputs": [],
   "source": [
    "# 缺失值填充\n",
    "df_shanghai_processed.year.fillna(df_shanghai_processed.year.mean(), inplace = True)\n",
    "df_shanghai_processed.age.fillna(df_shanghai_processed.age.mean(), inplace = True)"
   ]
  },
  {
   "cell_type": "code",
   "execution_count": 63,
   "metadata": {},
   "outputs": [],
   "source": [
    "from kmodes.kprototypes import KPrototypes"
   ]
  },
  {
   "cell_type": "code",
   "execution_count": 97,
   "metadata": {},
   "outputs": [],
   "source": [
    "cate_index = [5] # 为类别型变量在columns中的索引\n",
    "def TrainCluster(df, model_name=None, start_k=2, end_k=10):\n",
    "    print('training cluster')\n",
    "    K = []\n",
    "    SSE = []\n",
    "    silhouette_all=[]\n",
    "    models = [] #保存每次的模型\n",
    "    for i in range(start_k, end_k):\n",
    "        start = time.perf_counter ()\n",
    "        kproto_model = KPrototypes(n_clusters=i, n_jobs=multiprocessing.cpu_count())\n",
    "        kproto_model.fit(df_shanghai_processed,categorical=cate_index)\n",
    "        SSE.append(kproto_model.cost_)  # 保存每一个k值的SSE值\n",
    "        K.append(i)\n",
    "        print('{}-prototypes SSE loss = {}'.format(i, kproto_model.cost_))\n",
    "        models.append(kproto_model) #保存每个k值对应的模型\n",
    "        end = time.perf_counter ()\n",
    "        print('Running time: %s Seconds'%(end-start))\n",
    "\n",
    "    return(K,SSE,models)"
   ]
  },
  {
   "cell_type": "code",
   "execution_count": 99,
   "metadata": {},
   "outputs": [
    {
     "name": "stdout",
     "output_type": "stream",
     "text": [
      "training cluster\n",
      "2-prototypes SSE loss = 58809.79071753508\n",
      "Running time: 64.79066440000042 Seconds\n",
      "3-prototypes SSE loss = 45201.28197321835\n",
      "Running time: 65.0152863000003 Seconds\n",
      "4-prototypes SSE loss = 38331.770363498814\n",
      "Running time: 144.35168930000054 Seconds\n",
      "5-prototypes SSE loss = 33471.205293080806\n",
      "Running time: 90.9471966000001 Seconds\n",
      "6-prototypes SSE loss = 30541.7419155361\n",
      "Running time: 141.77380129999983 Seconds\n",
      "7-prototypes SSE loss = 28114.384722203155\n",
      "Running time: 193.68540699999994 Seconds\n",
      "8-prototypes SSE loss = 26252.713164768087\n",
      "Running time: 234.6029128 Seconds\n",
      "9-prototypes SSE loss = 24199.270131151\n",
      "Running time: 169.6960337999999 Seconds\n"
     ]
    }
   ],
   "source": [
    "K, SSE, models = TrainCluster(df = df_shanghai_processed)"
   ]
  },
  {
   "cell_type": "code",
   "execution_count": 111,
   "metadata": {},
   "outputs": [
    {
     "data": {
      "image/png": "[encoded data removed]",
      "text/plain": [
       "<Figure size 432x288 with 1 Axes>"
      ]
     },
     "metadata": {
      "needs_background": "light"
     },
     "output_type": "display_data"
    }
   ],
   "source": [
    "# 决定选择5\n",
    "plt.plot(K, SSE)\n",
    "plt.xlabel('聚类类别数k')\n",
    "plt.ylabel('SSE')\n",
    "plt.xticks(K)\n",
    "plt.title('用肘部法则来确定最佳的k值')\n",
    "plt.show()"
   ]
  },
  {
   "cell_type": "code",
   "execution_count": 203,
   "metadata": {},
   "outputs": [],
   "source": [
    "#确定了最佳的k值后：5\n",
    "best_model = models[K.index(5)]"
   ]
  },
  {
   "cell_type": "code",
   "execution_count": 204,
   "metadata": {},
   "outputs": [],
   "source": [
    "df_shanghai['labels_'] = best_model.labels_"
   ]
  },
  {
   "cell_type": "code",
   "execution_count": 205,
   "metadata": {},
   "outputs": [],
   "source": [
    "center = pd.DataFrame(best_model.cluster_centroids_ )\n",
    "center.columns = df_shanghai_processed.columns"
   ]
  },
  {
   "cell_type": "code",
   "execution_count": 206,
   "metadata": {},
   "outputs": [
    {
     "name": "stdout",
     "output_type": "stream",
     "text": [
      "total_price_raw\n",
      "unit_price_raw\n",
      "area_raw\n",
      "year_raw\n",
      "age_raw\n"
     ]
    }
   ],
   "source": [
    "# 添加原始值\n",
    "for col in center.columns[:-1]:\n",
    "    col_new = col+'_raw'\n",
    "    mean = df_shanghai[col].mean()\n",
    "    std = df_shanghai[col].std()\n",
    "    center[col_new] = center[col]*std+mean\n",
    "    print(col_new)"
   ]
  },
  {
   "cell_type": "code",
   "execution_count": 210,
   "metadata": {},
   "outputs": [
    {
     "data": {
      "text/html": [
       "<div>\n",
       "<style scoped>\n",
       "    .dataframe tbody tr th:only-of-type {\n",
       "        vertical-align: middle;\n",
       "    }\n",
       "\n",
       "    .dataframe tbody tr th {\n",
       "        vertical-align: top;\n",
       "    }\n",
       "\n",
       "    .dataframe thead th {\n",
       "        text-align: right;\n",
       "    }\n",
       "</style>\n",
       "<table border=\"1\" class=\"dataframe\">\n",
       "  <thead>\n",
       "    <tr style=\"text-align: right;\">\n",
       "      <th></th>\n",
       "      <th>total_price</th>\n",
       "      <th>unit_price</th>\n",
       "      <th>area</th>\n",
       "      <th>year</th>\n",
       "      <th>age</th>\n",
       "      <th>location1</th>\n",
       "      <th>total_price_raw</th>\n",
       "      <th>unit_price_raw</th>\n",
       "      <th>area_raw</th>\n",
       "      <th>year_raw</th>\n",
       "      <th>age_raw</th>\n",
       "    </tr>\n",
       "  </thead>\n",
       "  <tbody>\n",
       "    <tr>\n",
       "      <th>0</th>\n",
       "      <td>-0.196831</td>\n",
       "      <td>0.857112</td>\n",
       "      <td>-0.633931</td>\n",
       "      <td>-1.509358</td>\n",
       "      <td>1.509358</td>\n",
       "      <td>70.0</td>\n",
       "      <td>411.910757</td>\n",
       "      <td>84723.818809</td>\n",
       "      <td>48.283100</td>\n",
       "      <td>1982.834041</td>\n",
       "      <td>39.165959</td>\n",
       "    </tr>\n",
       "    <tr>\n",
       "      <th>1</th>\n",
       "      <td>1.028339</td>\n",
       "      <td>0.943943</td>\n",
       "      <td>0.683080</td>\n",
       "      <td>0.283296</td>\n",
       "      <td>-0.283296</td>\n",
       "      <td>55.0</td>\n",
       "      <td>1049.363989</td>\n",
       "      <td>87227.448686</td>\n",
       "      <td>125.315853</td>\n",
       "      <td>2002.680261</td>\n",
       "      <td>19.319739</td>\n",
       "    </tr>\n",
       "    <tr>\n",
       "      <th>2</th>\n",
       "      <td>-0.360165</td>\n",
       "      <td>-0.776708</td>\n",
       "      <td>0.068983</td>\n",
       "      <td>0.943399</td>\n",
       "      <td>-0.943399</td>\n",
       "      <td>148.0</td>\n",
       "      <td>326.928768</td>\n",
       "      <td>37615.670691</td>\n",
       "      <td>89.396985</td>\n",
       "      <td>2009.988176</td>\n",
       "      <td>12.011824</td>\n",
       "    </tr>\n",
       "    <tr>\n",
       "      <th>3</th>\n",
       "      <td>5.232979</td>\n",
       "      <td>1.179193</td>\n",
       "      <td>5.146247</td>\n",
       "      <td>0.660238</td>\n",
       "      <td>-0.660238</td>\n",
       "      <td>162.0</td>\n",
       "      <td>3237.028695</td>\n",
       "      <td>94010.433144</td>\n",
       "      <td>386.369159</td>\n",
       "      <td>2006.853337</td>\n",
       "      <td>15.146663</td>\n",
       "    </tr>\n",
       "    <tr>\n",
       "      <th>4</th>\n",
       "      <td>-0.321592</td>\n",
       "      <td>-0.224998</td>\n",
       "      <td>-0.321260</td>\n",
       "      <td>-0.309066</td>\n",
       "      <td>0.309066</td>\n",
       "      <td>11.0</td>\n",
       "      <td>346.998185</td>\n",
       "      <td>53523.203484</td>\n",
       "      <td>66.571404</td>\n",
       "      <td>1996.122307</td>\n",
       "      <td>25.877693</td>\n",
       "    </tr>\n",
       "  </tbody>\n",
       "</table>\n",
       "</div>"
      ],
      "text/plain": [
       "   total_price  unit_price      area      year       age  location1  \\\n",
       "0    -0.196831    0.857112 -0.633931 -1.509358  1.509358       70.0   \n",
       "1     1.028339    0.943943  0.683080  0.283296 -0.283296       55.0   \n",
       "2    -0.360165   -0.776708  0.068983  0.943399 -0.943399      148.0   \n",
       "3     5.232979    1.179193  5.146247  0.660238 -0.660238      162.0   \n",
       "4    -0.321592   -0.224998 -0.321260 -0.309066  0.309066       11.0   \n",
       "\n",
       "   total_price_raw  unit_price_raw    area_raw     year_raw    age_raw  \n",
       "0       411.910757    84723.818809   48.283100  1982.834041  39.165959  \n",
       "1      1049.363989    87227.448686  125.315853  2002.680261  19.319739  \n",
       "2       326.928768    37615.670691   89.396985  2009.988176  12.011824  \n",
       "3      3237.028695    94010.433144  386.369159  2006.853337  15.146663  \n",
       "4       346.998185    53523.203484   66.571404  1996.122307  25.877693  "
      ]
     },
     "execution_count": 210,
     "metadata": {},
     "output_type": "execute_result"
    }
   ],
   "source": [
    "center"
   ]
  },
  {
   "cell_type": "code",
   "execution_count": 209,
   "metadata": {},
   "outputs": [
    {
     "data": {
      "text/plain": [
       "<matplotlib.legend.Legend at 0x2b78896bef0>"
      ]
     },
     "execution_count": 209,
     "metadata": {},
     "output_type": "execute_result"
    },
    {
     "data": {
      "image/png": "[encoded data removed]",
      "text/plain": [
       "<Figure size 432x288 with 1 Axes>"
      ]
     },
     "metadata": {
      "needs_background": "light"
     },
     "output_type": "display_data"
    }
   ],
   "source": [
    "# 绘制散点图\n",
    "colors1 = '#00CED1' #点的颜色\n",
    "colors2 = '#DC143C'\n",
    "\n",
    "col1 = 'total_price'\n",
    "col2 = 'area'\n",
    "\n",
    "for label in df_shanghai.labels_.unique():\n",
    "    if label != 3:\n",
    "        x = df_shanghai.loc[df_shanghai.labels_ == label, col1]\n",
    "        y = df_shanghai.loc[df_shanghai.labels_ == label, col2]\n",
    "        plt.scatter(x, y, label = str(label), alpha = 0.2)\n",
    "\n",
    "plt.legend()"
   ]
  }
 ],
 "metadata": {
  "kernelspec": {
   "display_name": "Python 3",
   "language": "python",
   "name": "python3"
  },
  "language_info": {
   "codemirror_mode": {
    "name": "ipython",
    "version": 3
   },
   "file_extension": ".py",
   "mimetype": "text/x-python",
   "name": "python",
   "nbconvert_exporter": "python",
   "pygments_lexer": "ipython3",
   "version": "3.7.3"
  }
 },
 "nbformat": 4,
 "nbformat_minor": 2
}
