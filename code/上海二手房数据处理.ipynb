{
 "cells": [
  {
   "cell_type": "code",
   "execution_count": 220,
   "metadata": {},
   "outputs": [],
   "source": [
    "import pickle\n",
    "import pandas as pd\n",
    "import re\n",
    "import numpy as np\n",
    "import requests\n",
    "import json\n",
    "import math\n",
    "from tqdm import tqdm, trange"
   ]
  },
  {
   "cell_type": "code",
   "execution_count": 2,
   "metadata": {},
   "outputs": [],
   "source": [
    "# 读取\n",
    "shanghai_ershou = pickle.load(open( './shanghai_ershou_v2.pkl', 'rb'))\n",
    "# hangzhou_new = pickle.load(open( './hangzhou_new.pkl', 'rb'))"
   ]
  },
  {
   "cell_type": "code",
   "execution_count": 3,
   "metadata": {},
   "outputs": [
    {
     "name": "stdout",
     "output_type": "stream",
     "text": [
      "爬取房屋的总数： 14780\n"
     ]
    }
   ],
   "source": [
    "l = []\n",
    "for key in shanghai_ershou.keys():\n",
    "    l.append(len(shanghai_ershou[key].keys()))\n",
    "    \n",
    "print('爬取房屋的总数：',sum(l))"
   ]
  },
  {
   "cell_type": "code",
   "execution_count": 4,
   "metadata": {},
   "outputs": [],
   "source": [
    "shanghai_ershou_df = pd.DataFrame(columns = pd.DataFrame(shanghai_ershou['locationbeicaipg1']).index)\n",
    "for i in shanghai_ershou.keys():\n",
    "    temp = pd.DataFrame(shanghai_ershou[i]).T\n",
    "    shanghai_ershou_df = pd.concat([shanghai_ershou_df, temp], ignore_index = True)"
   ]
  },
  {
   "cell_type": "code",
   "execution_count": 5,
   "metadata": {},
   "outputs": [],
   "source": [
    "# 发现dataframe中每个元素都是一个列表（有可能为空）\n",
    "def extract_0(x):\n",
    "    \"\"\"\n",
    "    提取列表中第一个元素，若列表为空，则返回none\n",
    "    \"\"\"\n",
    "    try:\n",
    "        return x[0]\n",
    "    except:\n",
    "        return None   "
   ]
  },
  {
   "cell_type": "code",
   "execution_count": 6,
   "metadata": {},
   "outputs": [],
   "source": [
    "df_shanghai = shanghai_ershou_df.copy()\n",
    "# dataframe中每一列数据都从列表中提取出来\n",
    "for col in df_shanghai.columns:\n",
    "    df_shanghai[col] = df_shanghai[col].apply(extract_0)"
   ]
  },
  {
   "cell_type": "code",
   "execution_count": 7,
   "metadata": {},
   "outputs": [
    {
     "data": {
      "text/html": [
       "<div>\n",
       "<style scoped>\n",
       "    .dataframe tbody tr th:only-of-type {\n",
       "        vertical-align: middle;\n",
       "    }\n",
       "\n",
       "    .dataframe tbody tr th {\n",
       "        vertical-align: top;\n",
       "    }\n",
       "\n",
       "    .dataframe thead th {\n",
       "        text-align: right;\n",
       "    }\n",
       "</style>\n",
       "<table border=\"1\" class=\"dataframe\">\n",
       "  <thead>\n",
       "    <tr style=\"text-align: right;\">\n",
       "      <th></th>\n",
       "      <th>house_name</th>\n",
       "      <th>total_price</th>\n",
       "      <th>total_price_desc</th>\n",
       "      <th>unit_price</th>\n",
       "      <th>info</th>\n",
       "      <th>location1</th>\n",
       "    </tr>\n",
       "  </thead>\n",
       "  <tbody>\n",
       "    <tr>\n",
       "      <th>0</th>\n",
       "      <td>芳芯苑</td>\n",
       "      <td>461</td>\n",
       "      <td>万</td>\n",
       "      <td>66,456元/平</td>\n",
       "      <td>2室1厅 | 69.37平米 | 南 | 精装 | 高楼层(共6层) | 1994年建 | 板楼</td>\n",
       "      <td>北蔡</td>\n",
       "    </tr>\n",
       "    <tr>\n",
       "      <th>1</th>\n",
       "      <td>环龙公寓</td>\n",
       "      <td>821</td>\n",
       "      <td>万</td>\n",
       "      <td>70,070元/平</td>\n",
       "      <td>3室2厅 | 117.17平米 | 南 | 精装 | 高楼层(共8层) | 2002年建 | 板楼</td>\n",
       "      <td>北蔡</td>\n",
       "    </tr>\n",
       "    <tr>\n",
       "      <th>2</th>\n",
       "      <td>虹南小区(浦东)</td>\n",
       "      <td>360</td>\n",
       "      <td>万</td>\n",
       "      <td>55,633元/平</td>\n",
       "      <td>2室1厅 | 64.71平米 | 南 | 简装 | 高楼层(共6层) | 1993年建 | 板楼</td>\n",
       "      <td>北蔡</td>\n",
       "    </tr>\n",
       "    <tr>\n",
       "      <th>3</th>\n",
       "      <td>金旋小区</td>\n",
       "      <td>365</td>\n",
       "      <td>万</td>\n",
       "      <td>62,997元/平</td>\n",
       "      <td>2室1厅 | 57.94平米 | 南 | 精装 | 高楼层(共6层) | 1995年建 | 板楼</td>\n",
       "      <td>北蔡</td>\n",
       "    </tr>\n",
       "    <tr>\n",
       "      <th>4</th>\n",
       "      <td>绿川小区</td>\n",
       "      <td>360</td>\n",
       "      <td>万</td>\n",
       "      <td>53,620元/平</td>\n",
       "      <td>2室1厅 | 67.14平米 | 南 北 | 精装 | 高楼层(共6层) | 1996年建 ...</td>\n",
       "      <td>北蔡</td>\n",
       "    </tr>\n",
       "  </tbody>\n",
       "</table>\n",
       "</div>"
      ],
      "text/plain": [
       "  house_name total_price total_price_desc unit_price  \\\n",
       "0       芳芯苑          461                万  66,456元/平   \n",
       "1      环龙公寓          821                万  70,070元/平   \n",
       "2  虹南小区(浦东)          360                万  55,633元/平   \n",
       "3      金旋小区          365                万  62,997元/平   \n",
       "4      绿川小区          360                万  53,620元/平   \n",
       "\n",
       "                                                info location1  \n",
       "0   2室1厅 | 69.37平米 | 南 | 精装 | 高楼层(共6层) | 1994年建 | 板楼        北蔡  \n",
       "1  3室2厅 | 117.17平米 | 南 | 精装 | 高楼层(共8层) | 2002年建 | 板楼        北蔡  \n",
       "2   2室1厅 | 64.71平米 | 南 | 简装 | 高楼层(共6层) | 1993年建 | 板楼        北蔡  \n",
       "3   2室1厅 | 57.94平米 | 南 | 精装 | 高楼层(共6层) | 1995年建 | 板楼        北蔡  \n",
       "4  2室1厅 | 67.14平米 | 南 北 | 精装 | 高楼层(共6层) | 1996年建 ...        北蔡  "
      ]
     },
     "execution_count": 7,
     "metadata": {},
     "output_type": "execute_result"
    }
   ],
   "source": [
    "df_shanghai.head()"
   ]
  },
  {
   "cell_type": "markdown",
   "metadata": {},
   "source": [
    "对总价进行处理"
   ]
  },
  {
   "cell_type": "code",
   "execution_count": 8,
   "metadata": {},
   "outputs": [],
   "source": [
    "df_shanghai.total_price = df_shanghai.total_price.astype('float')"
   ]
  },
  {
   "cell_type": "code",
   "execution_count": 9,
   "metadata": {},
   "outputs": [],
   "source": [
    "# total_price 只有一个单位：万\n",
    "# df_shanghai.total_price_desc.unique()"
   ]
  },
  {
   "cell_type": "markdown",
   "metadata": {},
   "source": [
    "对单价进行处理"
   ]
  },
  {
   "cell_type": "code",
   "execution_count": 10,
   "metadata": {},
   "outputs": [],
   "source": [
    "df_shanghai.unit_price = df_shanghai.unit_price.str.extract(r'([\\d,]+)').replace(',','', regex = True).astype('float')[0]"
   ]
  },
  {
   "cell_type": "markdown",
   "metadata": {},
   "source": [
    "对面积进行处理"
   ]
  },
  {
   "cell_type": "code",
   "execution_count": 11,
   "metadata": {},
   "outputs": [],
   "source": [
    "df_shanghai['area'] = df_shanghai.loc[:,'info'].str.extract('([\\d.]+)平米')"
   ]
  },
  {
   "cell_type": "markdown",
   "metadata": {},
   "source": [
    "批量调用高德接口"
   ]
  },
  {
   "cell_type": "code",
   "execution_count": 70,
   "metadata": {},
   "outputs": [],
   "source": [
    "res_dict = {}\n",
    "for i in trange(df_shanghai.shape[0]):\n",
    "# for i in tqdm(range(5)):\n",
    "    url = 'https://restapi.amap.com/v3/geocode/geo?key=c00a9fc63a97c64fe63bf1ff051a285e&address=上海市{}&city=上海市'\n",
    "    location = df_shanghai.iloc[i, 5]+df_shanghai.iloc[i,0]\n",
    "    try:\n",
    "        res = requests.get(url.format(location.rstrip())).text\n",
    "    except:\n",
    "        res = None\n",
    "    finally:\n",
    "        res_dict[i] = res"
   ]
  },
  {
   "cell_type": "code",
   "execution_count": 84,
   "metadata": {},
   "outputs": [],
   "source": [
    "df_shanghai['api'] = pd.Series(res_dict)"
   ]
  },
  {
   "cell_type": "code",
   "execution_count": 108,
   "metadata": {},
   "outputs": [],
   "source": [
    "def parse_location(res):\n",
    "    if res != None:\n",
    "        geocodes = json.loads(res).get('geocodes')[0]\n",
    "        location = geocodes.get('location')\n",
    "        return location\n",
    "    else:\n",
    "        return None"
   ]
  },
  {
   "cell_type": "code",
   "execution_count": 207,
   "metadata": {},
   "outputs": [],
   "source": [
    "# 经纬度\n",
    "df_shanghai['location'] = df_shanghai.api.map(parse_location)\n",
    "\n",
    "# 经度，纬度\n",
    "df_shanghai['longitude'] = df_shanghai.location.str.extract('([\\d.]+),')\n",
    "df_shanghai['latitude'] = df_shanghai.location.str.extract(',([\\d.]+)')"
   ]
  },
  {
   "cell_type": "code",
   "execution_count": 208,
   "metadata": {},
   "outputs": [],
   "source": [
    "df_shanghai['longitude'] = df_shanghai['longitude'].astype('float')\n",
    "df_shanghai['latitude'] = df_shanghai['latitude'].astype('float')"
   ]
  },
  {
   "cell_type": "code",
   "execution_count": 209,
   "metadata": {},
   "outputs": [],
   "source": [
    "# 获取人民广场的经纬度\n",
    "url = 'https://restapi.amap.com/v3/geocode/geo?key=c00a9fc63a97c64fe63bf1ff051a285e&address=上海市{}&city=上海市'\n",
    "location = '人民广场'\n",
    "res = requests.get(url.format(location.rstrip())).text\n",
    "rg_location = json.loads(res).get('geocodes')[0].get('location')\n",
    "\n",
    "matchObj = re.search('([\\d.]+),', rg_location)\n",
    "rg_longitude = float(matchObj.group(1)) # 经度\n",
    "matchObj = re.search(',([\\d.]+)', rg_location)\n",
    "rg_latitude = float(matchObj.group(1)) # 纬度"
   ]
  },
  {
   "cell_type": "code",
   "execution_count": 210,
   "metadata": {},
   "outputs": [],
   "source": [
    "def angle2radian(x):\n",
    "    \"角度转换为弧度\"\n",
    "    return x*math.pi/180\n",
    "\n",
    "def rec2sphere(lng1, lat1):\n",
    "    \"球坐标系->直角坐标系\"\n",
    "    R = 6371\n",
    "    x1 = R*math.cos(lng1)*math.cos(lat1)\n",
    "    y1 = R*math.cos(lng1)*math.sin(lat1)\n",
    "    z1 = R*math.sin(lat1)\n",
    "    return x1, y1, z1\n",
    "\n",
    "def get_chord_length(x1, y1, z1, x2, y2, z2):\n",
    "    \"获取直角坐标系中的直线距离\"\n",
    "    dx = x1 - x2\n",
    "    dy = y1 - y2\n",
    "    dz = z1 - z2\n",
    "    lenth = np.sqrt(dx**2+dy**2+dz**2)\n",
    "    return lenth\n",
    "\n",
    "def get_distance(lng1, lat1, lng2 , lat2):\n",
    "    \"输入经纬度，得到两地距离(km)\"\n",
    "    R = 6371\n",
    "    # 角度转化为弧度\n",
    "    lng1 = angle2radian(lng1)\n",
    "    lat1 = angle2radian(lat1)\n",
    "    lng2 = angle2radian(lng2)\n",
    "    lat2 = angle2radian(lat2)\n",
    "    \n",
    "    # 球坐标->直角坐标\n",
    "    x1, y1, z1 = rec2sphere(lng1, lat1)\n",
    "    x2, y2, z2 = rec2sphere(lng2, lat2)\n",
    "    \n",
    "    # 三维空间中的距离（大圆中的弦长）\n",
    "    lenth = get_chord_length(x1, y1, z1, x2, y2, z2)\n",
    "    \n",
    "    # 大圆中的弧长\n",
    "    alpha = math.asin(lenth/2/R)*2\n",
    "    r = alpha*R\n",
    "    return r"
   ]
  },
  {
   "cell_type": "code",
   "execution_count": 221,
   "metadata": {},
   "outputs": [
    {
     "data": {
      "text/plain": [
       "14780"
      ]
     },
     "execution_count": 221,
     "metadata": {},
     "output_type": "execute_result"
    }
   ],
   "source": [
    "df_shanghai.shape[0]"
   ]
  },
  {
   "cell_type": "code",
   "execution_count": 225,
   "metadata": {},
   "outputs": [
    {
     "name": "stderr",
     "output_type": "stream",
     "text": [
      "100%|███████████████████████████████████████████████████████████████████████████| 14780/14780 [00:15<00:00, 937.94it/s]\n"
     ]
    }
   ],
   "source": [
    "distance_dict = {}\n",
    "for i in trange(df_shanghai.shape[0]):\n",
    "    lng1 = df_shanghai.iloc[i].longitude\n",
    "    lat1 = df_shanghai.iloc[i].latitude\n",
    "    distance = get_distance(lng1, lat1, rg_longitude, rg_latitude)\n",
    "    distance_dict[i] = distance\n",
    "    "
   ]
  },
  {
   "cell_type": "code",
   "execution_count": 228,
   "metadata": {},
   "outputs": [],
   "source": [
    "df_shanghai['distance_rg'] = pd.Series(distance_dict)"
   ]
  },
  {
   "cell_type": "code",
   "execution_count": 230,
   "metadata": {},
   "outputs": [],
   "source": [
    "df_shanghai.drop(columns = ['api', 'location'], inplace=True)"
   ]
  },
  {
   "cell_type": "markdown",
   "metadata": {},
   "source": [
    "数据存储"
   ]
  },
  {
   "cell_type": "code",
   "execution_count": 233,
   "metadata": {},
   "outputs": [],
   "source": [
    "# df_shanghai.to_csv('sh_ershou_clean.csv')\n",
    "df_shanghai.to_csv('sh_ershou_clean_v2.csv') # v2添加了房子到人民广场的距离"
   ]
  }
 ],
 "metadata": {
  "kernelspec": {
   "display_name": "Python 3",
   "language": "python",
   "name": "python3"
  },
  "language_info": {
   "codemirror_mode": {
    "name": "ipython",
    "version": 3
   },
   "file_extension": ".py",
   "mimetype": "text/x-python",
   "name": "python",
   "nbconvert_exporter": "python",
   "pygments_lexer": "ipython3",
   "version": "3.7.3"
  }
 },
 "nbformat": 4,
 "nbformat_minor": 2
}
