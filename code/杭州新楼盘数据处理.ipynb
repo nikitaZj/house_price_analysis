{
 "cells": [
  {
   "cell_type": "code",
   "execution_count": 22,
   "metadata": {},
   "outputs": [],
   "source": [
    "import pickle\n",
    "import pandas as pd\n",
    "import re\n",
    "import numpy as np"
   ]
  },
  {
   "cell_type": "code",
   "execution_count": 125,
   "metadata": {},
   "outputs": [],
   "source": [
    "# 读取\n",
    "shanghai_new = pickle.load(open( './shanghai_new.pkl', 'rb'))\n",
    "hangzhou_new = pickle.load(open( './hangzhou_new.pkl', 'rb'))"
   ]
  },
  {
   "cell_type": "code",
   "execution_count": 126,
   "metadata": {},
   "outputs": [
    {
     "name": "stdout",
     "output_type": "stream",
     "text": [
      "爬取房屋的总数： 1424\n"
     ]
    }
   ],
   "source": [
    "l = []\n",
    "for key in hangzhou_new.keys():\n",
    "    l.append(len(hangzhou_new[key].keys()))\n",
    "    \n",
    "print('爬取房屋的总数：',sum(l))"
   ]
  },
  {
   "cell_type": "code",
   "execution_count": 127,
   "metadata": {},
   "outputs": [],
   "source": [
    "hangzhou_new_df = pd.DataFrame(columns = pd.DataFrame(hangzhou_new['pg1']).index)\n",
    "for i in hangzhou_new.keys():\n",
    "    temp = pd.DataFrame(hangzhou_new[i]).T\n",
    "    hangzhou_new_df = pd.concat([hangzhou_new_df, temp], ignore_index = True)"
   ]
  },
  {
   "cell_type": "code",
   "execution_count": 128,
   "metadata": {},
   "outputs": [
    {
     "data": {
      "text/html": [
       "<div>\n",
       "<style scoped>\n",
       "    .dataframe tbody tr th:only-of-type {\n",
       "        vertical-align: middle;\n",
       "    }\n",
       "\n",
       "    .dataframe tbody tr th {\n",
       "        vertical-align: top;\n",
       "    }\n",
       "\n",
       "    .dataframe thead th {\n",
       "        text-align: right;\n",
       "    }\n",
       "</style>\n",
       "<table border=\"1\" class=\"dataframe\">\n",
       "  <thead>\n",
       "    <tr style=\"text-align: right;\">\n",
       "      <th></th>\n",
       "      <th>house_name</th>\n",
       "      <th>total_price</th>\n",
       "      <th>unit_price</th>\n",
       "      <th>unit_price_desc</th>\n",
       "      <th>type</th>\n",
       "      <th>location1</th>\n",
       "      <th>area</th>\n",
       "    </tr>\n",
       "  </thead>\n",
       "  <tbody>\n",
       "    <tr>\n",
       "      <th>0</th>\n",
       "      <td>[赞成星谷]</td>\n",
       "      <td>[总价100-188(万/套)]</td>\n",
       "      <td>[25000]</td>\n",
       "      <td>[ 元/㎡(均价)]</td>\n",
       "      <td>[商业类]</td>\n",
       "      <td>[拱墅]</td>\n",
       "      <td>[建面 42-64㎡]</td>\n",
       "    </tr>\n",
       "    <tr>\n",
       "      <th>1</th>\n",
       "      <td>[同协金座]</td>\n",
       "      <td>[总价157-210(万/套)]</td>\n",
       "      <td>[33000]</td>\n",
       "      <td>[ 元/㎡(均价)]</td>\n",
       "      <td>[商业类]</td>\n",
       "      <td>[上城]</td>\n",
       "      <td>[建面 45-73㎡]</td>\n",
       "    </tr>\n",
       "    <tr>\n",
       "      <th>2</th>\n",
       "      <td>[蓝城久宸里]</td>\n",
       "      <td>[总价1850-3600(万/套)]</td>\n",
       "      <td>[80000]</td>\n",
       "      <td>[ 元/㎡(均价)]</td>\n",
       "      <td>[商业类]</td>\n",
       "      <td>[上城]</td>\n",
       "      <td>[建面 255-515㎡]</td>\n",
       "    </tr>\n",
       "    <tr>\n",
       "      <th>3</th>\n",
       "      <td>[云悦湾]</td>\n",
       "      <td>[总价170-243(万/套)]</td>\n",
       "      <td>[40000]</td>\n",
       "      <td>[ 元/㎡(均价)]</td>\n",
       "      <td>[商业类]</td>\n",
       "      <td>[上城]</td>\n",
       "      <td>[建面 41-58㎡]</td>\n",
       "    </tr>\n",
       "    <tr>\n",
       "      <th>4</th>\n",
       "      <td>[世茂西溪宸悦]</td>\n",
       "      <td>[总价152-588(万/套)]</td>\n",
       "      <td>[42000]</td>\n",
       "      <td>[ 元/㎡(均价)]</td>\n",
       "      <td>[商业类]</td>\n",
       "      <td>[西湖]</td>\n",
       "      <td>[建面 38-168㎡]</td>\n",
       "    </tr>\n",
       "  </tbody>\n",
       "</table>\n",
       "</div>"
      ],
      "text/plain": [
       "  house_name         total_price unit_price unit_price_desc   type location1  \\\n",
       "0     [赞成星谷]    [总价100-188(万/套)]    [25000]      [ 元/㎡(均价)]  [商业类]      [拱墅]   \n",
       "1     [同协金座]    [总价157-210(万/套)]    [33000]      [ 元/㎡(均价)]  [商业类]      [上城]   \n",
       "2    [蓝城久宸里]  [总价1850-3600(万/套)]    [80000]      [ 元/㎡(均价)]  [商业类]      [上城]   \n",
       "3      [云悦湾]    [总价170-243(万/套)]    [40000]      [ 元/㎡(均价)]  [商业类]      [上城]   \n",
       "4   [世茂西溪宸悦]    [总价152-588(万/套)]    [42000]      [ 元/㎡(均价)]  [商业类]      [西湖]   \n",
       "\n",
       "            area  \n",
       "0    [建面 42-64㎡]  \n",
       "1    [建面 45-73㎡]  \n",
       "2  [建面 255-515㎡]  \n",
       "3    [建面 41-58㎡]  \n",
       "4   [建面 38-168㎡]  "
      ]
     },
     "execution_count": 128,
     "metadata": {},
     "output_type": "execute_result"
    }
   ],
   "source": [
    "hangzhou_new_df.head()"
   ]
  },
  {
   "cell_type": "code",
   "execution_count": 129,
   "metadata": {},
   "outputs": [],
   "source": [
    "# 发现dataframe中每个元素都是一个列表（有可能为空）\n",
    "def extract_0(x):\n",
    "    \"\"\"\n",
    "    提取列表中第一个元素，若列表为空，则返回none\n",
    "    \"\"\"\n",
    "    try:\n",
    "        return x[0]\n",
    "    except:\n",
    "        return None   "
   ]
  },
  {
   "cell_type": "code",
   "execution_count": 130,
   "metadata": {},
   "outputs": [],
   "source": [
    "df_hangzhou = hangzhou_new_df.copy()\n",
    "# dataframe中每一列数据都从列表中提取出来\n",
    "for col in df_hangzhou.columns:\n",
    "    df_hangzhou[col] = df_hangzhou[col].apply(extract_0)"
   ]
  },
  {
   "cell_type": "code",
   "execution_count": 131,
   "metadata": {},
   "outputs": [
    {
     "data": {
      "text/html": [
       "<div>\n",
       "<style scoped>\n",
       "    .dataframe tbody tr th:only-of-type {\n",
       "        vertical-align: middle;\n",
       "    }\n",
       "\n",
       "    .dataframe tbody tr th {\n",
       "        vertical-align: top;\n",
       "    }\n",
       "\n",
       "    .dataframe thead th {\n",
       "        text-align: right;\n",
       "    }\n",
       "</style>\n",
       "<table border=\"1\" class=\"dataframe\">\n",
       "  <thead>\n",
       "    <tr style=\"text-align: right;\">\n",
       "      <th></th>\n",
       "      <th>house_name</th>\n",
       "      <th>total_price</th>\n",
       "      <th>unit_price</th>\n",
       "      <th>unit_price_desc</th>\n",
       "      <th>type</th>\n",
       "      <th>location1</th>\n",
       "      <th>area</th>\n",
       "    </tr>\n",
       "  </thead>\n",
       "  <tbody>\n",
       "    <tr>\n",
       "      <th>0</th>\n",
       "      <td>赞成星谷</td>\n",
       "      <td>总价100-188(万/套)</td>\n",
       "      <td>25000</td>\n",
       "      <td>元/㎡(均价)</td>\n",
       "      <td>商业类</td>\n",
       "      <td>拱墅</td>\n",
       "      <td>建面 42-64㎡</td>\n",
       "    </tr>\n",
       "    <tr>\n",
       "      <th>1</th>\n",
       "      <td>同协金座</td>\n",
       "      <td>总价157-210(万/套)</td>\n",
       "      <td>33000</td>\n",
       "      <td>元/㎡(均价)</td>\n",
       "      <td>商业类</td>\n",
       "      <td>上城</td>\n",
       "      <td>建面 45-73㎡</td>\n",
       "    </tr>\n",
       "    <tr>\n",
       "      <th>2</th>\n",
       "      <td>蓝城久宸里</td>\n",
       "      <td>总价1850-3600(万/套)</td>\n",
       "      <td>80000</td>\n",
       "      <td>元/㎡(均价)</td>\n",
       "      <td>商业类</td>\n",
       "      <td>上城</td>\n",
       "      <td>建面 255-515㎡</td>\n",
       "    </tr>\n",
       "    <tr>\n",
       "      <th>3</th>\n",
       "      <td>云悦湾</td>\n",
       "      <td>总价170-243(万/套)</td>\n",
       "      <td>40000</td>\n",
       "      <td>元/㎡(均价)</td>\n",
       "      <td>商业类</td>\n",
       "      <td>上城</td>\n",
       "      <td>建面 41-58㎡</td>\n",
       "    </tr>\n",
       "    <tr>\n",
       "      <th>4</th>\n",
       "      <td>世茂西溪宸悦</td>\n",
       "      <td>总价152-588(万/套)</td>\n",
       "      <td>42000</td>\n",
       "      <td>元/㎡(均价)</td>\n",
       "      <td>商业类</td>\n",
       "      <td>西湖</td>\n",
       "      <td>建面 38-168㎡</td>\n",
       "    </tr>\n",
       "  </tbody>\n",
       "</table>\n",
       "</div>"
      ],
      "text/plain": [
       "  house_name       total_price unit_price unit_price_desc type location1  \\\n",
       "0       赞成星谷    总价100-188(万/套)      25000         元/㎡(均价)  商业类        拱墅   \n",
       "1       同协金座    总价157-210(万/套)      33000         元/㎡(均价)  商业类        上城   \n",
       "2      蓝城久宸里  总价1850-3600(万/套)      80000         元/㎡(均价)  商业类        上城   \n",
       "3        云悦湾    总价170-243(万/套)      40000         元/㎡(均价)  商业类        上城   \n",
       "4     世茂西溪宸悦    总价152-588(万/套)      42000         元/㎡(均价)  商业类        西湖   \n",
       "\n",
       "          area  \n",
       "0    建面 42-64㎡  \n",
       "1    建面 45-73㎡  \n",
       "2  建面 255-515㎡  \n",
       "3    建面 41-58㎡  \n",
       "4   建面 38-168㎡  "
      ]
     },
     "execution_count": 131,
     "metadata": {},
     "output_type": "execute_result"
    }
   ],
   "source": [
    "# total_price 需要正则表达式进行处理\n",
    "# area 需要正则表达式进行处理\n",
    "# unit_price 全都是’元/㎡(均价)‘\n",
    "df_hangzhou.head()"
   ]
  },
  {
   "cell_type": "markdown",
   "metadata": {},
   "source": [
    "单价"
   ]
  },
  {
   "cell_type": "code",
   "execution_count": 132,
   "metadata": {},
   "outputs": [],
   "source": [
    "# 发现单价里面有价格待定,将其转换为空值\n",
    "df_hangzhou['unit_price'] = df_hangzhou.unit_price.replace('价格待定', np.nan)"
   ]
  },
  {
   "cell_type": "code",
   "execution_count": 133,
   "metadata": {},
   "outputs": [
    {
     "name": "stdout",
     "output_type": "stream",
     "text": [
      "单价为区间的数据个数： 2\n"
     ]
    }
   ],
   "source": [
    "# 单价里面也有区间，需要进行处理\n",
    "print('单价为区间的数据个数：',df_hangzhou.unit_price.str.contains('-').sum())"
   ]
  },
  {
   "cell_type": "code",
   "execution_count": 134,
   "metadata": {},
   "outputs": [
    {
     "data": {
      "text/html": [
       "<div>\n",
       "<style scoped>\n",
       "    .dataframe tbody tr th:only-of-type {\n",
       "        vertical-align: middle;\n",
       "    }\n",
       "\n",
       "    .dataframe tbody tr th {\n",
       "        vertical-align: top;\n",
       "    }\n",
       "\n",
       "    .dataframe thead th {\n",
       "        text-align: right;\n",
       "    }\n",
       "</style>\n",
       "<table border=\"1\" class=\"dataframe\">\n",
       "  <thead>\n",
       "    <tr style=\"text-align: right;\">\n",
       "      <th></th>\n",
       "      <th>house_name</th>\n",
       "      <th>total_price</th>\n",
       "      <th>unit_price</th>\n",
       "      <th>unit_price_desc</th>\n",
       "      <th>type</th>\n",
       "      <th>location1</th>\n",
       "      <th>area</th>\n",
       "    </tr>\n",
       "  </thead>\n",
       "  <tbody>\n",
       "    <tr>\n",
       "      <th>14</th>\n",
       "      <td>中港西湖院子</td>\n",
       "      <td>None</td>\n",
       "      <td>880-1300</td>\n",
       "      <td>(万/套)(总价)</td>\n",
       "      <td>别墅</td>\n",
       "      <td>余杭</td>\n",
       "      <td>建面 150-180㎡</td>\n",
       "    </tr>\n",
       "    <tr>\n",
       "      <th>29</th>\n",
       "      <td>悦青蓝</td>\n",
       "      <td>None</td>\n",
       "      <td>200-270</td>\n",
       "      <td>(万/套)(总价)</td>\n",
       "      <td>住宅</td>\n",
       "      <td>余杭</td>\n",
       "      <td>建面 87-135㎡</td>\n",
       "    </tr>\n",
       "  </tbody>\n",
       "</table>\n",
       "</div>"
      ],
      "text/plain": [
       "   house_name total_price unit_price unit_price_desc type location1  \\\n",
       "14     中港西湖院子        None   880-1300       (万/套)(总价)   别墅        余杭   \n",
       "29        悦青蓝        None    200-270       (万/套)(总价)   住宅        余杭   \n",
       "\n",
       "           area  \n",
       "14  建面 150-180㎡  \n",
       "29   建面 87-135㎡  "
      ]
     },
     "execution_count": 134,
     "metadata": {},
     "output_type": "execute_result"
    }
   ],
   "source": [
    "# 直接通过链家前端页面可以看到，这两个价格其实是总价\n",
    "df_hangzhou.loc[df_hangzhou.unit_price.str.contains('-') == True]"
   ]
  },
  {
   "cell_type": "code",
   "execution_count": 135,
   "metadata": {},
   "outputs": [],
   "source": [
    "# 对错位数据进行纠正\n",
    "df_hangzhou.loc[df_hangzhou.unit_price_desc == '\\xa0(万/套)(总价)', 'total_price'] = df_hangzhou.loc[df_hangzhou.unit_price_desc == '\\xa0(万/套)(总价)', 'unit_price']\n",
    "df_hangzhou.loc[df_hangzhou.unit_price_desc == '\\xa0(万/套)(总价)', 'unit_price'] = np.nan"
   ]
  },
  {
   "cell_type": "markdown",
   "metadata": {},
   "source": [
    "对总价进行处理"
   ]
  },
  {
   "cell_type": "code",
   "execution_count": 136,
   "metadata": {},
   "outputs": [],
   "source": [
    "temp = df_hangzhou.total_price.str.extract('总价([\\w-]+)')\n",
    "temp.loc[df_hangzhou.unit_price_desc == '\\xa0(万/套)(总价)',0] = df_hangzhou.loc[df_hangzhou.unit_price_desc == '\\xa0(万/套)(总价)', 'total_price']"
   ]
  },
  {
   "cell_type": "code",
   "execution_count": 137,
   "metadata": {},
   "outputs": [],
   "source": [
    "# # 观察发现总价中无法提取数字的，都是没有爬取到总价的（即 总价 为空）\n",
    "# df_shanghai.loc[temp.isna()[0], 'total_price'].value_counts()"
   ]
  },
  {
   "cell_type": "code",
   "execution_count": 138,
   "metadata": {},
   "outputs": [],
   "source": [
    "# 获取总价的最大、最小值：\n",
    "# 有区间的正常取最大、最小值；没有区间的最大最小值都直接取数字\n",
    "df_hangzhou['total_price_min'] = temp[0].str.extract(r'([\\d]+)-')\n",
    "df_hangzhou['total_price_max'] = temp[0].str.extract(r'-([\\d]+)')\n",
    "df_hangzhou.loc[df_hangzhou['total_price_min'].isna(), 'total_price_min'] = temp.loc[df_hangzhou['total_price_min'].isna(), 0] \n",
    "df_hangzhou.loc[df_hangzhou['total_price_max'].isna(), 'total_price_max'] = temp.loc[df_hangzhou['total_price_max'].isna(), 0] "
   ]
  },
  {
   "cell_type": "markdown",
   "metadata": {},
   "source": [
    "对面积进行处理"
   ]
  },
  {
   "cell_type": "code",
   "execution_count": 140,
   "metadata": {},
   "outputs": [],
   "source": [
    "temp = df_hangzhou.area.str.extract(r'([\\d-]+)')"
   ]
  },
  {
   "cell_type": "code",
   "execution_count": 141,
   "metadata": {},
   "outputs": [],
   "source": [
    "# 提取为空都是因为原始的爬取数据就是空的\n",
    "# df_shanghai.loc[df_shanghai.area.str.extract(r'([\\d-]+)').isna()[0],'area'].unique()"
   ]
  },
  {
   "cell_type": "code",
   "execution_count": 142,
   "metadata": {},
   "outputs": [],
   "source": [
    "df_hangzhou['area_min'] = temp[0].str.extract(r'([\\d]+)-')\n",
    "df_hangzhou['area_max'] = temp[0].str.extract(r'-([\\d]+)')\n",
    "df_hangzhou.loc[df_hangzhou['area_min'].isna(), 'area_min'] = temp.loc[df_hangzhou['area_min'].isna(), 0] \n",
    "df_hangzhou.loc[df_hangzhou['area_max'].isna(), 'area_max'] = temp.loc[df_hangzhou['area_max'].isna(), 0] "
   ]
  },
  {
   "cell_type": "markdown",
   "metadata": {},
   "source": [
    "单价、总价、面积相关列转换为数值类型"
   ]
  },
  {
   "cell_type": "code",
   "execution_count": 145,
   "metadata": {},
   "outputs": [],
   "source": [
    "col_list = [ 'unit_price', 'area_min', 'area_max', 'total_price_min', 'total_price_max']"
   ]
  },
  {
   "cell_type": "code",
   "execution_count": 146,
   "metadata": {},
   "outputs": [],
   "source": [
    "df_hangzhou[col_list] = df_hangzhou[col_list].astype('float')"
   ]
  },
  {
   "cell_type": "code",
   "execution_count": 147,
   "metadata": {},
   "outputs": [],
   "source": [
    "df_hangzhou.to_csv('hz_new_clean.csv')"
   ]
  }
 ],
 "metadata": {
  "kernelspec": {
   "display_name": "Python 3",
   "language": "python",
   "name": "python3"
  },
  "language_info": {
   "codemirror_mode": {
    "name": "ipython",
    "version": 3
   },
   "file_extension": ".py",
   "mimetype": "text/x-python",
   "name": "python",
   "nbconvert_exporter": "python",
   "pygments_lexer": "ipython3",
   "version": "3.7.3"
  }
 },
 "nbformat": 4,
 "nbformat_minor": 2
}
