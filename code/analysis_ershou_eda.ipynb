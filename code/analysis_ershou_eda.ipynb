{
 "cells": [
  {
   "cell_type": "code",
   "execution_count": 93,
   "metadata": {},
   "outputs": [],
   "source": [
    "import pandas as pd\n",
    "import matplotlib.pyplot as plt\n",
    "import seaborn as sns\n",
    "plt.rcParams['font.sans-serif']=['SimHei']\n",
    "plt.rcParams['axes.unicode_minus'] = False"
   ]
  },
  {
   "cell_type": "code",
   "execution_count": 41,
   "metadata": {},
   "outputs": [],
   "source": [
    "df_shanghai = pd.read_csv('sh_ershou_clean.csv', index_col = 0)\n",
    "df_hangzhou = pd.read_csv('hz_ershou_clean.csv', index_col = 0)"
   ]
  },
  {
   "cell_type": "code",
   "execution_count": 42,
   "metadata": {},
   "outputs": [
    {
     "name": "stdout",
     "output_type": "stream",
     "text": [
      "df_shanghai.shape:(14780, 7)\n",
      "df_hangzhou.shape:(35942, 7)\n"
     ]
    }
   ],
   "source": [
    "print('df_shanghai.shape:{}'.format(df_shanghai.shape))\n",
    "print('df_hangzhou.shape:{}'.format(df_hangzhou.shape))"
   ]
  },
  {
   "cell_type": "code",
   "execution_count": 43,
   "metadata": {},
   "outputs": [],
   "source": [
    "df_shanghai['year'] = df_shanghai['info'].str.extract('([\\d]+)年').astype('float')\n",
    "# df_hangzhou['year'] = df_hangzhou['info'].str.extract('([\\d]+)年').astype('float')\n",
    "# 杭州数据没有建房年份"
   ]
  },
  {
   "cell_type": "code",
   "execution_count": 44,
   "metadata": {},
   "outputs": [
    {
     "data": {
      "text/html": [
       "<div>\n",
       "<style scoped>\n",
       "    .dataframe tbody tr th:only-of-type {\n",
       "        vertical-align: middle;\n",
       "    }\n",
       "\n",
       "    .dataframe tbody tr th {\n",
       "        vertical-align: top;\n",
       "    }\n",
       "\n",
       "    .dataframe thead th {\n",
       "        text-align: right;\n",
       "    }\n",
       "</style>\n",
       "<table border=\"1\" class=\"dataframe\">\n",
       "  <thead>\n",
       "    <tr style=\"text-align: right;\">\n",
       "      <th></th>\n",
       "      <th>total_price</th>\n",
       "      <th>unit_price</th>\n",
       "      <th>area</th>\n",
       "      <th>year</th>\n",
       "    </tr>\n",
       "  </thead>\n",
       "  <tbody>\n",
       "    <tr>\n",
       "      <th>count</th>\n",
       "      <td>14780.000000</td>\n",
       "      <td>14780.000000</td>\n",
       "      <td>14780.000000</td>\n",
       "      <td>13498.000000</td>\n",
       "    </tr>\n",
       "    <tr>\n",
       "      <th>mean</th>\n",
       "      <td>514.321616</td>\n",
       "      <td>60010.600474</td>\n",
       "      <td>85.362117</td>\n",
       "      <td>1999.543932</td>\n",
       "    </tr>\n",
       "    <tr>\n",
       "      <th>std</th>\n",
       "      <td>520.297698</td>\n",
       "      <td>28833.133598</td>\n",
       "      <td>58.490598</td>\n",
       "      <td>11.070863</td>\n",
       "    </tr>\n",
       "    <tr>\n",
       "      <th>min</th>\n",
       "      <td>36.000000</td>\n",
       "      <td>9743.000000</td>\n",
       "      <td>8.680000</td>\n",
       "      <td>1911.000000</td>\n",
       "    </tr>\n",
       "    <tr>\n",
       "      <th>25%</th>\n",
       "      <td>253.000000</td>\n",
       "      <td>38246.500000</td>\n",
       "      <td>51.907500</td>\n",
       "      <td>1994.000000</td>\n",
       "    </tr>\n",
       "    <tr>\n",
       "      <th>50%</th>\n",
       "      <td>385.000000</td>\n",
       "      <td>58976.500000</td>\n",
       "      <td>72.880000</td>\n",
       "      <td>1999.000000</td>\n",
       "    </tr>\n",
       "    <tr>\n",
       "      <th>75%</th>\n",
       "      <td>600.000000</td>\n",
       "      <td>77363.750000</td>\n",
       "      <td>101.985000</td>\n",
       "      <td>2008.000000</td>\n",
       "    </tr>\n",
       "    <tr>\n",
       "      <th>max</th>\n",
       "      <td>17800.000000</td>\n",
       "      <td>451777.000000</td>\n",
       "      <td>1547.730000</td>\n",
       "      <td>2020.000000</td>\n",
       "    </tr>\n",
       "  </tbody>\n",
       "</table>\n",
       "</div>"
      ],
      "text/plain": [
       "        total_price     unit_price          area          year\n",
       "count  14780.000000   14780.000000  14780.000000  13498.000000\n",
       "mean     514.321616   60010.600474     85.362117   1999.543932\n",
       "std      520.297698   28833.133598     58.490598     11.070863\n",
       "min       36.000000    9743.000000      8.680000   1911.000000\n",
       "25%      253.000000   38246.500000     51.907500   1994.000000\n",
       "50%      385.000000   58976.500000     72.880000   1999.000000\n",
       "75%      600.000000   77363.750000    101.985000   2008.000000\n",
       "max    17800.000000  451777.000000   1547.730000   2020.000000"
      ]
     },
     "execution_count": 44,
     "metadata": {},
     "output_type": "execute_result"
    }
   ],
   "source": [
    "df_shanghai.describe()"
   ]
  },
  {
   "cell_type": "code",
   "execution_count": 45,
   "metadata": {},
   "outputs": [
    {
     "data": {
      "text/html": [
       "<div>\n",
       "<style scoped>\n",
       "    .dataframe tbody tr th:only-of-type {\n",
       "        vertical-align: middle;\n",
       "    }\n",
       "\n",
       "    .dataframe tbody tr th {\n",
       "        vertical-align: top;\n",
       "    }\n",
       "\n",
       "    .dataframe thead th {\n",
       "        text-align: right;\n",
       "    }\n",
       "</style>\n",
       "<table border=\"1\" class=\"dataframe\">\n",
       "  <thead>\n",
       "    <tr style=\"text-align: right;\">\n",
       "      <th></th>\n",
       "      <th>total_price</th>\n",
       "      <th>unit_price</th>\n",
       "      <th>area</th>\n",
       "    </tr>\n",
       "  </thead>\n",
       "  <tbody>\n",
       "    <tr>\n",
       "      <th>count</th>\n",
       "      <td>35942.000000</td>\n",
       "      <td>35942.000000</td>\n",
       "      <td>35942.000000</td>\n",
       "    </tr>\n",
       "    <tr>\n",
       "      <th>mean</th>\n",
       "      <td>399.349858</td>\n",
       "      <td>39625.255050</td>\n",
       "      <td>101.016017</td>\n",
       "    </tr>\n",
       "    <tr>\n",
       "      <th>std</th>\n",
       "      <td>327.967287</td>\n",
       "      <td>20116.935677</td>\n",
       "      <td>50.150677</td>\n",
       "    </tr>\n",
       "    <tr>\n",
       "      <th>min</th>\n",
       "      <td>18.000000</td>\n",
       "      <td>4016.000000</td>\n",
       "      <td>7.160000</td>\n",
       "    </tr>\n",
       "    <tr>\n",
       "      <th>25%</th>\n",
       "      <td>215.000000</td>\n",
       "      <td>25115.250000</td>\n",
       "      <td>67.290000</td>\n",
       "    </tr>\n",
       "    <tr>\n",
       "      <th>50%</th>\n",
       "      <td>310.000000</td>\n",
       "      <td>35827.000000</td>\n",
       "      <td>89.150000</td>\n",
       "    </tr>\n",
       "    <tr>\n",
       "      <th>75%</th>\n",
       "      <td>478.000000</td>\n",
       "      <td>48535.750000</td>\n",
       "      <td>126.337500</td>\n",
       "    </tr>\n",
       "    <tr>\n",
       "      <th>max</th>\n",
       "      <td>8500.000000</td>\n",
       "      <td>130000.000000</td>\n",
       "      <td>816.000000</td>\n",
       "    </tr>\n",
       "  </tbody>\n",
       "</table>\n",
       "</div>"
      ],
      "text/plain": [
       "        total_price     unit_price          area\n",
       "count  35942.000000   35942.000000  35942.000000\n",
       "mean     399.349858   39625.255050    101.016017\n",
       "std      327.967287   20116.935677     50.150677\n",
       "min       18.000000    4016.000000      7.160000\n",
       "25%      215.000000   25115.250000     67.290000\n",
       "50%      310.000000   35827.000000     89.150000\n",
       "75%      478.000000   48535.750000    126.337500\n",
       "max     8500.000000  130000.000000    816.000000"
      ]
     },
     "execution_count": 45,
     "metadata": {},
     "output_type": "execute_result"
    }
   ],
   "source": [
    "df_hangzhou.describe()"
   ]
  },
  {
   "cell_type": "markdown",
   "metadata": {},
   "source": [
    "上海总价"
   ]
  },
  {
   "cell_type": "code",
   "execution_count": 20,
   "metadata": {},
   "outputs": [
    {
     "name": "stdout",
     "output_type": "stream",
     "text": [
      "上海二手房总价0.9分位数:960.0\n"
     ]
    },
    {
     "data": {
      "image/png": "[encoded data removed]",
      "text/plain": [
       "<Figure size 432x288 with 1 Axes>"
      ]
     },
     "metadata": {
      "needs_background": "light"
     },
     "output_type": "display_data"
    }
   ],
   "source": [
    "# 上海二手房总价大部分在1000W以内\n",
    "df_shanghai.total_price.plot(kind = 'box')\n",
    "quantile = 0.9\n",
    "print('上海二手房总价{}分位数:{}'.format(quantile, df_shanghai.total_price.quantile(quantile)))"
   ]
  },
  {
   "cell_type": "code",
   "execution_count": 74,
   "metadata": {},
   "outputs": [
    {
     "data": {
      "text/plain": [
       "<AxesSubplot:ylabel='Frequency'>"
      ]
     },
     "execution_count": 74,
     "metadata": {},
     "output_type": "execute_result"
    },
    {
     "data": {
      "image/png": "[encoded data removed]",
      "text/plain": [
       "<Figure size 432x288 with 1 Axes>"
      ]
     },
     "metadata": {
      "needs_background": "light"
     },
     "output_type": "display_data"
    }
   ],
   "source": [
    "# 大部分二手房500W以内？\n",
    "df_shanghai.loc[df_shanghai.total_price<df_shanghai.total_price.quantile(0.95), 'total_price'].plot(kind = 'hist', bins = 50)"
   ]
  },
  {
   "cell_type": "markdown",
   "metadata": {},
   "source": [
    "上海单价"
   ]
  },
  {
   "cell_type": "code",
   "execution_count": 54,
   "metadata": {},
   "outputs": [
    {
     "name": "stdout",
     "output_type": "stream",
     "text": [
      "上海二手房单价0.9分位数:96211.7元/平方米\n"
     ]
    },
    {
     "data": {
      "image/png": "[encoded data removed]",
      "text/plain": [
       "<Figure size 432x288 with 1 Axes>"
      ]
     },
     "metadata": {
      "needs_background": "light"
     },
     "output_type": "display_data"
    }
   ],
   "source": [
    "# 上海二手房单价大部分在10W以内\n",
    "df_shanghai.unit_price.plot(kind = 'box')\n",
    "quantile = 0.9\n",
    "print('上海二手房单价{}分位数:{}元/平方米'.format(quantile, df_shanghai.unit_price.quantile(quantile)))"
   ]
  },
  {
   "cell_type": "code",
   "execution_count": 75,
   "metadata": {},
   "outputs": [
    {
     "data": {
      "text/plain": [
       "<AxesSubplot:ylabel='Frequency'>"
      ]
     },
     "execution_count": 75,
     "metadata": {},
     "output_type": "execute_result"
    },
    {
     "data": {
      "image/png": "[encoded data removed]",
      "text/plain": [
       "<Figure size 432x288 with 1 Axes>"
      ]
     },
     "metadata": {
      "needs_background": "light"
     },
     "output_type": "display_data"
    }
   ],
   "source": [
    "# 上海二手房单价大部分在2-8w\n",
    "df_shanghai.loc[df_shanghai.unit_price<df_shanghai.unit_price.quantile(0.99), 'unit_price'].plot(kind = 'hist', bins = 50)"
   ]
  },
  {
   "cell_type": "markdown",
   "metadata": {},
   "source": [
    "杭州总价"
   ]
  },
  {
   "cell_type": "code",
   "execution_count": 69,
   "metadata": {},
   "outputs": [
    {
     "name": "stdout",
     "output_type": "stream",
     "text": [
      "杭州二手房总价0.95分位数:950.0\n"
     ]
    },
    {
     "data": {
      "image/png": "[encoded data removed]",
      "text/plain": [
       "<Figure size 432x288 with 1 Axes>"
      ]
     },
     "metadata": {
      "needs_background": "light"
     },
     "output_type": "display_data"
    }
   ],
   "source": [
    "# 杭州二手房总价大部分在1000W以内\n",
    "df_hangzhou.total_price.plot(kind = 'box')\n",
    "quantile = 0.95\n",
    "print('杭州二手房总价{}分位数:{}'.format(quantile, df_hangzhou.total_price.quantile(quantile)))"
   ]
  },
  {
   "cell_type": "code",
   "execution_count": 76,
   "metadata": {},
   "outputs": [
    {
     "data": {
      "text/plain": [
       "<AxesSubplot:ylabel='Frequency'>"
      ]
     },
     "execution_count": 76,
     "metadata": {},
     "output_type": "execute_result"
    },
    {
     "data": {
      "image/png": "[encoded data removed]",
      "text/plain": [
       "<Figure size 432x288 with 1 Axes>"
      ]
     },
     "metadata": {
      "needs_background": "light"
     },
     "output_type": "display_data"
    }
   ],
   "source": [
    "# 大部分二手房400W以内？\n",
    "# df_hangzhou.total_price.plot(kind = 'hist')\n",
    "df_hangzhou.loc[df_hangzhou.total_price<df_hangzhou.total_price.quantile(0.98), 'total_price'].plot(kind = 'hist', bins = 50)"
   ]
  },
  {
   "cell_type": "markdown",
   "metadata": {},
   "source": [
    "杭州单价"
   ]
  },
  {
   "cell_type": "code",
   "execution_count": 79,
   "metadata": {},
   "outputs": [
    {
     "name": "stdout",
     "output_type": "stream",
     "text": [
      "杭州二手房单价0.98分位数:95209.24元/平方米\n"
     ]
    },
    {
     "data": {
      "image/png": "[encoded data removed]",
      "text/plain": [
       "<Figure size 432x288 with 1 Axes>"
      ]
     },
     "metadata": {
      "needs_background": "light"
     },
     "output_type": "display_data"
    }
   ],
   "source": [
    "# 杭州二手房单价大部分在10W以内\n",
    "df_hangzhou.unit_price.plot(kind = 'box')\n",
    "quantile = 0.98\n",
    "print('杭州二手房单价{}分位数:{}元/平方米'.format(quantile, df_hangzhou.unit_price.quantile(quantile)))"
   ]
  },
  {
   "cell_type": "code",
   "execution_count": 81,
   "metadata": {},
   "outputs": [
    {
     "data": {
      "text/plain": [
       "<AxesSubplot:ylabel='Frequency'>"
      ]
     },
     "execution_count": 81,
     "metadata": {},
     "output_type": "execute_result"
    },
    {
     "data": {
      "image/png": "[encoded data removed]",
      "text/plain": [
       "<Figure size 432x288 with 1 Axes>"
      ]
     },
     "metadata": {
      "needs_background": "light"
     },
     "output_type": "display_data"
    }
   ],
   "source": [
    "# 上海二手房单价大部分在2-5w\n",
    "df_hangzhou.loc[df_hangzhou.unit_price<df_hangzhou.unit_price.quantile(1), 'unit_price'].plot(kind = 'hist', bins = 50)"
   ]
  },
  {
   "cell_type": "markdown",
   "metadata": {},
   "source": [
    "图像汇总"
   ]
  },
  {
   "cell_type": "code",
   "execution_count": 84,
   "metadata": {},
   "outputs": [
    {
     "data": {
      "image/png": "[encoded data removed]",
      "text/plain": [
       "<Figure size 1440x432 with 1 Axes>"
      ]
     },
     "metadata": {
      "needs_background": "light"
     },
     "output_type": "display_data"
    }
   ],
   "source": [
    "# 总价直方图\n",
    "fig = plt.figure(figsize = (20,6))\n",
    "ax1 = fig.add_subplot(111)\n",
    "ax1.hist(df_shanghai.loc[df_shanghai.total_price<df_shanghai.total_price.quantile(0.95), 'total_price'], bins = 50, label = 'sh_total_price', alpha = 0.5, density = True)\n",
    "ax1.hist(df_hangzhou.loc[df_hangzhou.total_price<df_hangzhou.total_price.quantile(0.98), 'total_price'], bins = 50, label = 'hz_total_price', alpha = 0.5, density = True)\n",
    "ax1.legend()\n",
    "ax1.set_title('total_price(万/套)', fontsize = 20)\n",
    "plt.show()"
   ]
  },
  {
   "cell_type": "code",
   "execution_count": 86,
   "metadata": {
    "scrolled": true
   },
   "outputs": [
    {
     "data": {
      "image/png": "[encoded data removed]",
      "text/plain": [
       "<Figure size 1440x432 with 1 Axes>"
      ]
     },
     "metadata": {
      "needs_background": "light"
     },
     "output_type": "display_data"
    }
   ],
   "source": [
    "# 总价直方图\n",
    "fig = plt.figure(figsize = (20,6))\n",
    "ax1 = fig.add_subplot(111)\n",
    "ax1.hist(df_shanghai.loc[df_shanghai.unit_price<df_shanghai.unit_price.quantile(0.99), 'unit_price'], bins = 50, label = 'sh_total_price', alpha = 0.5, density = True)\n",
    "ax1.hist(df_hangzhou.loc[df_hangzhou.unit_price<df_hangzhou.unit_price.quantile(1), 'unit_price'], bins = 50, label = 'hz_total_price', alpha = 0.5, density = True)\n",
    "ax1.legend()\n",
    "ax1.set_title('unit_price(元/平方米)', fontsize = 20)\n",
    "plt.show()"
   ]
  },
  {
   "cell_type": "markdown",
   "metadata": {},
   "source": [
    "一些相关性"
   ]
  },
  {
   "cell_type": "code",
   "execution_count": 98,
   "metadata": {},
   "outputs": [
    {
     "data": {
      "text/html": [
       "<div>\n",
       "<style scoped>\n",
       "    .dataframe tbody tr th:only-of-type {\n",
       "        vertical-align: middle;\n",
       "    }\n",
       "\n",
       "    .dataframe tbody tr th {\n",
       "        vertical-align: top;\n",
       "    }\n",
       "\n",
       "    .dataframe thead th {\n",
       "        text-align: right;\n",
       "    }\n",
       "</style>\n",
       "<table border=\"1\" class=\"dataframe\">\n",
       "  <thead>\n",
       "    <tr style=\"text-align: right;\">\n",
       "      <th></th>\n",
       "      <th>total_price</th>\n",
       "      <th>unit_price</th>\n",
       "      <th>area</th>\n",
       "      <th>year</th>\n",
       "    </tr>\n",
       "  </thead>\n",
       "  <tbody>\n",
       "    <tr>\n",
       "      <th>total_price</th>\n",
       "      <td>1.000000</td>\n",
       "      <td>0.553328</td>\n",
       "      <td>0.719851</td>\n",
       "      <td>0.079527</td>\n",
       "    </tr>\n",
       "    <tr>\n",
       "      <th>unit_price</th>\n",
       "      <td>0.553328</td>\n",
       "      <td>1.000000</td>\n",
       "      <td>0.012232</td>\n",
       "      <td>-0.361660</td>\n",
       "    </tr>\n",
       "    <tr>\n",
       "      <th>area</th>\n",
       "      <td>0.719851</td>\n",
       "      <td>0.012232</td>\n",
       "      <td>1.000000</td>\n",
       "      <td>0.308382</td>\n",
       "    </tr>\n",
       "    <tr>\n",
       "      <th>year</th>\n",
       "      <td>0.079527</td>\n",
       "      <td>-0.361660</td>\n",
       "      <td>0.308382</td>\n",
       "      <td>1.000000</td>\n",
       "    </tr>\n",
       "  </tbody>\n",
       "</table>\n",
       "</div>"
      ],
      "text/plain": [
       "             total_price  unit_price      area      year\n",
       "total_price     1.000000    0.553328  0.719851  0.079527\n",
       "unit_price      0.553328    1.000000  0.012232 -0.361660\n",
       "area            0.719851    0.012232  1.000000  0.308382\n",
       "year            0.079527   -0.361660  0.308382  1.000000"
      ]
     },
     "execution_count": 98,
     "metadata": {},
     "output_type": "execute_result"
    }
   ],
   "source": [
    "df_shanghai.corr()"
   ]
  },
  {
   "cell_type": "code",
   "execution_count": 99,
   "metadata": {},
   "outputs": [
    {
     "data": {
      "text/plain": [
       "<AxesSubplot:>"
      ]
     },
     "execution_count": 99,
     "metadata": {},
     "output_type": "execute_result"
    },
    {
     "data": {
      "image/png": "[encoded data removed]",
      "text/plain": [
       "<Figure size 432x288 with 2 Axes>"
      ]
     },
     "metadata": {
      "needs_background": "light"
     },
     "output_type": "display_data"
    }
   ],
   "source": [
    "sns.heatmap(df_shanghai.corr())"
   ]
  }
 ],
 "metadata": {
  "kernelspec": {
   "display_name": "Python 3",
   "language": "python",
   "name": "python3"
  },
  "language_info": {
   "codemirror_mode": {
    "name": "ipython",
    "version": 3
   },
   "file_extension": ".py",
   "mimetype": "text/x-python",
   "name": "python",
   "nbconvert_exporter": "python",
   "pygments_lexer": "ipython3",
   "version": "3.7.3"
  }
 },
 "nbformat": 4,
 "nbformat_minor": 2
}
