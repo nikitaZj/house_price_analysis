{
 "cells": [
  {
   "cell_type": "code",
   "execution_count": 2,
   "metadata": {},
   "outputs": [],
   "source": [
    "import pickle\n",
    "import pandas as pd\n",
    "import re\n",
    "import numpy as np"
   ]
  },
  {
   "cell_type": "code",
   "execution_count": 3,
   "metadata": {},
   "outputs": [],
   "source": [
    "# 读取\n",
    "hangzhou_ershou1 = pickle.load(open( './hangzhou_ershou1.pkl', 'rb'))\n",
    "hangzhou_ershou2 = pickle.load(open( './hangzhou_ershou2.pkl', 'rb'))\n",
    "# hangzhou_new = pickle.load(open( './hangzhou_new.pkl', 'rb'))"
   ]
  },
  {
   "cell_type": "code",
   "execution_count": 7,
   "metadata": {},
   "outputs": [],
   "source": [
    "hangzhou_ershou = hangzhou_ershou1.copy()\n",
    "hangzhou_ershou.update(hangzhou_ershou2)"
   ]
  },
  {
   "cell_type": "code",
   "execution_count": 11,
   "metadata": {},
   "outputs": [
    {
     "name": "stdout",
     "output_type": "stream",
     "text": [
      "爬取房屋的总数： 35942\n"
     ]
    }
   ],
   "source": [
    "l = []\n",
    "for key in hangzhou_ershou.keys():\n",
    "    l.append(len(hangzhou_ershou[key].keys()))\n",
    "    \n",
    "print('爬取房屋的总数：',sum(l))"
   ]
  },
  {
   "cell_type": "code",
   "execution_count": 13,
   "metadata": {},
   "outputs": [],
   "source": [
    "hangzhou_ershou_df = pd.DataFrame(columns = pd.DataFrame(hangzhou_ershou['locationcuiyuanpg1']).index)\n",
    "for i in hangzhou_ershou.keys():\n",
    "    temp = pd.DataFrame(hangzhou_ershou[i]).T\n",
    "    hangzhou_ershou_df = pd.concat([hangzhou_ershou_df, temp], ignore_index = True)"
   ]
  },
  {
   "cell_type": "code",
   "execution_count": 15,
   "metadata": {},
   "outputs": [],
   "source": [
    "# 发现dataframe中每个元素都是一个列表（有可能为空）\n",
    "def extract_0(x):\n",
    "    \"\"\"\n",
    "    提取列表中第一个元素，若列表为空，则返回none\n",
    "    \"\"\"\n",
    "    try:\n",
    "        return x[0]\n",
    "    except:\n",
    "        return None   "
   ]
  },
  {
   "cell_type": "code",
   "execution_count": 16,
   "metadata": {},
   "outputs": [],
   "source": [
    "df_hangzhou = hangzhou_ershou_df.copy()\n",
    "# dataframe中每一列数据都从列表中提取出来\n",
    "for col in df_hangzhou.columns:\n",
    "    df_hangzhou[col] = df_hangzhou[col].apply(extract_0)"
   ]
  },
  {
   "cell_type": "code",
   "execution_count": 17,
   "metadata": {},
   "outputs": [
    {
     "data": {
      "text/html": [
       "<div>\n",
       "<style scoped>\n",
       "    .dataframe tbody tr th:only-of-type {\n",
       "        vertical-align: middle;\n",
       "    }\n",
       "\n",
       "    .dataframe tbody tr th {\n",
       "        vertical-align: top;\n",
       "    }\n",
       "\n",
       "    .dataframe thead th {\n",
       "        text-align: right;\n",
       "    }\n",
       "</style>\n",
       "<table border=\"1\" class=\"dataframe\">\n",
       "  <thead>\n",
       "    <tr style=\"text-align: right;\">\n",
       "      <th></th>\n",
       "      <th>house_name</th>\n",
       "      <th>total_price</th>\n",
       "      <th>total_price_desc</th>\n",
       "      <th>unit_price</th>\n",
       "      <th>info</th>\n",
       "      <th>location1</th>\n",
       "    </tr>\n",
       "  </thead>\n",
       "  <tbody>\n",
       "    <tr>\n",
       "      <th>0</th>\n",
       "      <td>翠苑四区</td>\n",
       "      <td>220</td>\n",
       "      <td>万</td>\n",
       "      <td>36,424元/平</td>\n",
       "      <td>2室1厅 | 60.4平米 | 南 | 简装 | 7层  | 板楼</td>\n",
       "      <td>翠苑</td>\n",
       "    </tr>\n",
       "    <tr>\n",
       "      <th>1</th>\n",
       "      <td>翠苑四区</td>\n",
       "      <td>225</td>\n",
       "      <td>万</td>\n",
       "      <td>42,381元/平</td>\n",
       "      <td>2室1厅 | 53.09平米 | 南 | 简装 | 7层  | 板楼</td>\n",
       "      <td>翠苑</td>\n",
       "    </tr>\n",
       "    <tr>\n",
       "      <th>2</th>\n",
       "      <td>翠苑二区</td>\n",
       "      <td>248</td>\n",
       "      <td>万</td>\n",
       "      <td>41,217元/平</td>\n",
       "      <td>3室1厅 | 60.17平米 | 东南 | 简装 | 7层  | 板楼</td>\n",
       "      <td>翠苑</td>\n",
       "    </tr>\n",
       "    <tr>\n",
       "      <th>3</th>\n",
       "      <td>翠苑逸景湾</td>\n",
       "      <td>360</td>\n",
       "      <td>万</td>\n",
       "      <td>41,252元/平</td>\n",
       "      <td>3室1厅 | 87.27平米 | 南 | 简装 | 26层  | 板塔结合</td>\n",
       "      <td>翠苑</td>\n",
       "    </tr>\n",
       "    <tr>\n",
       "      <th>4</th>\n",
       "      <td>枫华府第</td>\n",
       "      <td>880</td>\n",
       "      <td>万</td>\n",
       "      <td>67,646元/平</td>\n",
       "      <td>3室2厅 | 130.09平米 | 南 | 精装 | 10层  | 板塔结合</td>\n",
       "      <td>翠苑</td>\n",
       "    </tr>\n",
       "  </tbody>\n",
       "</table>\n",
       "</div>"
      ],
      "text/plain": [
       "  house_name total_price total_price_desc unit_price  \\\n",
       "0      翠苑四区          220                万  36,424元/平   \n",
       "1      翠苑四区          225                万  42,381元/平   \n",
       "2      翠苑二区          248                万  41,217元/平   \n",
       "3     翠苑逸景湾          360                万  41,252元/平   \n",
       "4      枫华府第          880                万  67,646元/平   \n",
       "\n",
       "                                     info location1  \n",
       "0       2室1厅 | 60.4平米 | 南 | 简装 | 7层  | 板楼        翠苑  \n",
       "1      2室1厅 | 53.09平米 | 南 | 简装 | 7层  | 板楼        翠苑  \n",
       "2     3室1厅 | 60.17平米 | 东南 | 简装 | 7层  | 板楼        翠苑  \n",
       "3   3室1厅 | 87.27平米 | 南 | 简装 | 26层  | 板塔结合        翠苑  \n",
       "4  3室2厅 | 130.09平米 | 南 | 精装 | 10层  | 板塔结合        翠苑  "
      ]
     },
     "execution_count": 17,
     "metadata": {},
     "output_type": "execute_result"
    }
   ],
   "source": [
    "df_hangzhou.head()"
   ]
  },
  {
   "cell_type": "markdown",
   "metadata": {},
   "source": [
    "对总价进行处理"
   ]
  },
  {
   "cell_type": "code",
   "execution_count": 19,
   "metadata": {},
   "outputs": [],
   "source": [
    "df_hangzhou.total_price = df_hangzhou.total_price.astype('float')"
   ]
  },
  {
   "cell_type": "code",
   "execution_count": 21,
   "metadata": {},
   "outputs": [],
   "source": [
    "# total_price 只有一个单位：万\n",
    "# df_hangzhou.total_price_desc.unique()"
   ]
  },
  {
   "cell_type": "markdown",
   "metadata": {},
   "source": [
    "对单价进行处理"
   ]
  },
  {
   "cell_type": "code",
   "execution_count": 22,
   "metadata": {},
   "outputs": [],
   "source": [
    "df_hangzhou.unit_price = df_hangzhou.unit_price.str.extract(r'([\\d,]+)').replace(',','', regex = True).astype('float')[0]"
   ]
  },
  {
   "cell_type": "markdown",
   "metadata": {},
   "source": [
    "对面积进行处理"
   ]
  },
  {
   "cell_type": "code",
   "execution_count": 25,
   "metadata": {},
   "outputs": [],
   "source": [
    "df_hangzhou['area'] = df_hangzhou.loc[:,'info'].str.extract('([\\d.]+)平米')"
   ]
  },
  {
   "cell_type": "markdown",
   "metadata": {},
   "source": [
    "数据存储"
   ]
  },
  {
   "cell_type": "code",
   "execution_count": 26,
   "metadata": {},
   "outputs": [],
   "source": [
    "df_hangzhou.to_csv('hz_ershou_clean.csv')"
   ]
  },
  {
   "cell_type": "code",
   "execution_count": 28,
   "metadata": {},
   "outputs": [
    {
     "data": {
      "text/plain": [
       "count     35942.000000\n",
       "mean      39625.255050\n",
       "std       20116.935677\n",
       "min        4016.000000\n",
       "25%       25115.250000\n",
       "50%       35827.000000\n",
       "75%       48535.750000\n",
       "max      130000.000000\n",
       "Name: unit_price, dtype: float64"
      ]
     },
     "execution_count": 28,
     "metadata": {},
     "output_type": "execute_result"
    }
   ],
   "source": [
    "df_hangzhou.unit_price.describe()"
   ]
  },
  {
   "cell_type": "code",
   "execution_count": 29,
   "metadata": {},
   "outputs": [
    {
     "data": {
      "text/html": [
       "<div>\n",
       "<style scoped>\n",
       "    .dataframe tbody tr th:only-of-type {\n",
       "        vertical-align: middle;\n",
       "    }\n",
       "\n",
       "    .dataframe tbody tr th {\n",
       "        vertical-align: top;\n",
       "    }\n",
       "\n",
       "    .dataframe thead th {\n",
       "        text-align: right;\n",
       "    }\n",
       "</style>\n",
       "<table border=\"1\" class=\"dataframe\">\n",
       "  <thead>\n",
       "    <tr style=\"text-align: right;\">\n",
       "      <th></th>\n",
       "      <th>house_name</th>\n",
       "      <th>total_price</th>\n",
       "      <th>total_price_desc</th>\n",
       "      <th>unit_price</th>\n",
       "      <th>info</th>\n",
       "      <th>location1</th>\n",
       "      <th>area</th>\n",
       "    </tr>\n",
       "  </thead>\n",
       "  <tbody>\n",
       "    <tr>\n",
       "      <th>35303</th>\n",
       "      <td>龙锦苑</td>\n",
       "      <td>35.8</td>\n",
       "      <td>万</td>\n",
       "      <td>4016.0</td>\n",
       "      <td>2室2厅 | 89.16平米 | 南 | 毛坯 | 5层  | 板塔结合</td>\n",
       "      <td>临安</td>\n",
       "      <td>89.16</td>\n",
       "    </tr>\n",
       "  </tbody>\n",
       "</table>\n",
       "</div>"
      ],
      "text/plain": [
       "      house_name  total_price total_price_desc  unit_price  \\\n",
       "35303       龙锦苑          35.8                万      4016.0   \n",
       "\n",
       "                                       info location1   area  \n",
       "35303  2室2厅 | 89.16平米 | 南 | 毛坯 | 5层  | 板塔结合        临安  89.16  "
      ]
     },
     "execution_count": 29,
     "metadata": {},
     "output_type": "execute_result"
    }
   ],
   "source": [
    "df_hangzhou[df_hangzhou.unit_price == 4016.000000]"
   ]
  },
  {
   "cell_type": "code",
   "execution_count": null,
   "metadata": {},
   "outputs": [],
   "source": []
  }
 ],
 "metadata": {
  "kernelspec": {
   "display_name": "Python 3",
   "language": "python",
   "name": "python3"
  },
  "language_info": {
   "codemirror_mode": {
    "name": "ipython",
    "version": 3
   },
   "file_extension": ".py",
   "mimetype": "text/x-python",
   "name": "python",
   "nbconvert_exporter": "python",
   "pygments_lexer": "ipython3",
   "version": "3.7.3"
  }
 },
 "nbformat": 4,
 "nbformat_minor": 2
}
