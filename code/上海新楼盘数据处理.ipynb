{
 "cells": [
  {
   "cell_type": "code",
   "execution_count": 245,
   "metadata": {},
   "outputs": [],
   "source": [
    "import pickle\n",
    "import pandas as pd\n",
    "import re\n",
    "import numpy as np"
   ]
  },
  {
   "cell_type": "code",
   "execution_count": 2,
   "metadata": {},
   "outputs": [],
   "source": [
    "# 读取\n",
    "shanghai_new = pickle.load(open( './shanghai_new.pkl', 'rb'))\n",
    "hangzhou_new = pickle.load(open( './hangzhou_new.pkl', 'rb'))"
   ]
  },
  {
   "cell_type": "code",
   "execution_count": 98,
   "metadata": {},
   "outputs": [
    {
     "name": "stdout",
     "output_type": "stream",
     "text": [
      "爬取房屋的总数： 1616\n"
     ]
    }
   ],
   "source": [
    "l = []\n",
    "for key in shanghai_new.keys():\n",
    "    l.append(len(shanghai_new[key].keys()))\n",
    "    \n",
    "print('爬取房屋的总数：',sum(l))"
   ]
  },
  {
   "cell_type": "code",
   "execution_count": 90,
   "metadata": {},
   "outputs": [],
   "source": [
    "shanghai_new_df = pd.DataFrame(columns = pd.DataFrame(shanghai_new['pg1']).index)\n",
    "for i in shanghai_new.keys():\n",
    "    temp = pd.DataFrame(shanghai_new[i]).T\n",
    "    shanghai_new_df = pd.concat([shanghai_new_df, temp], ignore_index = True)"
   ]
  },
  {
   "cell_type": "code",
   "execution_count": 91,
   "metadata": {},
   "outputs": [],
   "source": [
    "# 发现dataframe中每个元素都是一个列表（有可能为空）\n",
    "def extract_0(x):\n",
    "    \"\"\"\n",
    "    提取列表中第一个元素，若列表为空，则返回none\n",
    "    \"\"\"\n",
    "    try:\n",
    "        return x[0]\n",
    "    except:\n",
    "        return None   "
   ]
  },
  {
   "cell_type": "code",
   "execution_count": 92,
   "metadata": {},
   "outputs": [],
   "source": [
    "df_shanghai = shanghai_new_df.copy()\n",
    "# dataframe中每一列数据都从列表中提取出来\n",
    "for col in df_shanghai.columns:\n",
    "    df_shanghai[col] = df_shanghai[col].apply(extract_0)"
   ]
  },
  {
   "cell_type": "code",
   "execution_count": 235,
   "metadata": {},
   "outputs": [
    {
     "data": {
      "text/html": [
       "<div>\n",
       "<style scoped>\n",
       "    .dataframe tbody tr th:only-of-type {\n",
       "        vertical-align: middle;\n",
       "    }\n",
       "\n",
       "    .dataframe tbody tr th {\n",
       "        vertical-align: top;\n",
       "    }\n",
       "\n",
       "    .dataframe thead th {\n",
       "        text-align: right;\n",
       "    }\n",
       "</style>\n",
       "<table border=\"1\" class=\"dataframe\">\n",
       "  <thead>\n",
       "    <tr style=\"text-align: right;\">\n",
       "      <th></th>\n",
       "      <th>house_name</th>\n",
       "      <th>total_price</th>\n",
       "      <th>unit_price</th>\n",
       "      <th>unit_price_desc</th>\n",
       "      <th>type</th>\n",
       "      <th>location1</th>\n",
       "      <th>area</th>\n",
       "      <th>total_price_min</th>\n",
       "      <th>total_price_max</th>\n",
       "      <th>area_min</th>\n",
       "      <th>area_max</th>\n",
       "    </tr>\n",
       "  </thead>\n",
       "  <tbody>\n",
       "    <tr>\n",
       "      <th>0</th>\n",
       "      <td>滨江一品苑</td>\n",
       "      <td>总价1600-2597(万/套)</td>\n",
       "      <td>117000</td>\n",
       "      <td>元/㎡(均价)</td>\n",
       "      <td>住宅</td>\n",
       "      <td>浦东</td>\n",
       "      <td>建面 136-234㎡</td>\n",
       "      <td>1600</td>\n",
       "      <td>2597</td>\n",
       "      <td>136</td>\n",
       "      <td>234</td>\n",
       "    </tr>\n",
       "    <tr>\n",
       "      <th>1</th>\n",
       "      <td>红星临港天铂</td>\n",
       "      <td>总价297-330(万/套)</td>\n",
       "      <td>33000</td>\n",
       "      <td>元/㎡(均价)</td>\n",
       "      <td>住宅</td>\n",
       "      <td>浦东</td>\n",
       "      <td>建面 90-130㎡</td>\n",
       "      <td>297</td>\n",
       "      <td>330</td>\n",
       "      <td>90</td>\n",
       "      <td>130</td>\n",
       "    </tr>\n",
       "    <tr>\n",
       "      <th>2</th>\n",
       "      <td>中建·玖里书香</td>\n",
       "      <td>总价273(万/套)</td>\n",
       "      <td>28690</td>\n",
       "      <td>元/㎡(均价)</td>\n",
       "      <td>住宅</td>\n",
       "      <td>浦东</td>\n",
       "      <td>建面 60-99㎡</td>\n",
       "      <td>273</td>\n",
       "      <td>273</td>\n",
       "      <td>60</td>\n",
       "      <td>99</td>\n",
       "    </tr>\n",
       "    <tr>\n",
       "      <th>3</th>\n",
       "      <td>上城院子</td>\n",
       "      <td>总价750-800(万/套)</td>\n",
       "      <td>54390</td>\n",
       "      <td>元/㎡(均价)</td>\n",
       "      <td>住宅</td>\n",
       "      <td>宝山</td>\n",
       "      <td>建面 101-135㎡</td>\n",
       "      <td>750</td>\n",
       "      <td>800</td>\n",
       "      <td>101</td>\n",
       "      <td>135</td>\n",
       "    </tr>\n",
       "    <tr>\n",
       "      <th>4</th>\n",
       "      <td>万科天空之城</td>\n",
       "      <td>总价707(万/套)</td>\n",
       "      <td>58600</td>\n",
       "      <td>元/㎡(均价)</td>\n",
       "      <td>住宅</td>\n",
       "      <td>青浦</td>\n",
       "      <td>建面 75-160㎡</td>\n",
       "      <td>707</td>\n",
       "      <td>707</td>\n",
       "      <td>75</td>\n",
       "      <td>160</td>\n",
       "    </tr>\n",
       "  </tbody>\n",
       "</table>\n",
       "</div>"
      ],
      "text/plain": [
       "  house_name       total_price unit_price unit_price_desc type location1  \\\n",
       "0      滨江一品苑  总价1600-2597(万/套)     117000         元/㎡(均价)   住宅        浦东   \n",
       "1     红星临港天铂    总价297-330(万/套)      33000         元/㎡(均价)   住宅        浦东   \n",
       "2    中建·玖里书香        总价273(万/套)      28690         元/㎡(均价)   住宅        浦东   \n",
       "3       上城院子    总价750-800(万/套)      54390         元/㎡(均价)   住宅        宝山   \n",
       "4     万科天空之城        总价707(万/套)      58600         元/㎡(均价)   住宅        青浦   \n",
       "\n",
       "          area total_price_min total_price_max area_min area_max  \n",
       "0  建面 136-234㎡            1600            2597      136      234  \n",
       "1   建面 90-130㎡             297             330       90      130  \n",
       "2    建面 60-99㎡             273             273       60       99  \n",
       "3  建面 101-135㎡             750             800      101      135  \n",
       "4   建面 75-160㎡             707             707       75      160  "
      ]
     },
     "execution_count": 235,
     "metadata": {},
     "output_type": "execute_result"
    }
   ],
   "source": [
    "# total_price 需要正则表达式进行处理\n",
    "# area 需要正则表达式进行处理\n",
    "# unit_price 全都是’元/㎡(均价)‘\n",
    "df_shanghai.head()"
   ]
  },
  {
   "cell_type": "markdown",
   "metadata": {},
   "source": [
    "对总价进行处理"
   ]
  },
  {
   "cell_type": "code",
   "execution_count": 119,
   "metadata": {},
   "outputs": [],
   "source": [
    "temp = df_shanghai.total_price.str.extract('总价([\\w-]+)')"
   ]
  },
  {
   "cell_type": "code",
   "execution_count": 182,
   "metadata": {},
   "outputs": [],
   "source": [
    "# # 观察发现总价中无法提取数字的，都是没有爬取到总价的（即 总价 为空）\n",
    "# df_shanghai.loc[temp.isna()[0], 'total_price'].value_counts()"
   ]
  },
  {
   "cell_type": "code",
   "execution_count": 200,
   "metadata": {},
   "outputs": [],
   "source": [
    "# 获取总价的最大、最小值：\n",
    "# 有区间的正常取最大、最小值；没有区间的最大最小值都直接取数字\n",
    "df_shanghai['total_price_min'] = temp[0].str.extract(r'([\\d]+)-')\n",
    "df_shanghai['total_price_max'] = temp[0].str.extract(r'-([\\d]+)')\n",
    "df_shanghai.loc[df_shanghai['total_price_min'].isna(), 'total_price_min'] = temp.loc[df_shanghai['total_price_min'].isna(), 0] \n",
    "df_shanghai.loc[df_shanghai['total_price_max'].isna(), 'total_price_max'] = temp.loc[df_shanghai['total_price_max'].isna(), 0] "
   ]
  },
  {
   "cell_type": "markdown",
   "metadata": {},
   "source": [
    "对面积进行处理"
   ]
  },
  {
   "cell_type": "code",
   "execution_count": 229,
   "metadata": {},
   "outputs": [],
   "source": [
    "temp = df_shanghai.area.str.extract(r'([\\d-]+)')"
   ]
  },
  {
   "cell_type": "code",
   "execution_count": 231,
   "metadata": {},
   "outputs": [],
   "source": [
    "# 提取为空都是因为原始的爬取数据就是空的\n",
    "# df_shanghai.loc[df_shanghai.area.str.extract(r'([\\d-]+)').isna()[0],'area'].unique()"
   ]
  },
  {
   "cell_type": "code",
   "execution_count": 234,
   "metadata": {},
   "outputs": [],
   "source": [
    "df_shanghai['area_min'] = temp[0].str.extract(r'([\\d]+)-')\n",
    "df_shanghai['area_max'] = temp[0].str.extract(r'-([\\d]+)')\n",
    "df_shanghai.loc[df_shanghai['area_min'].isna(), 'area_min'] = temp.loc[df_shanghai['area_min'].isna(), 0] \n",
    "df_shanghai.loc[df_shanghai['area_max'].isna(), 'area_max'] = temp.loc[df_shanghai['area_max'].isna(), 0] "
   ]
  },
  {
   "cell_type": "markdown",
   "metadata": {},
   "source": [
    "单价、总价、面积相关列转换为数值类型"
   ]
  },
  {
   "cell_type": "code",
   "execution_count": 247,
   "metadata": {},
   "outputs": [],
   "source": [
    "# 发现单价里面有价格待定,将其转换为空值\n",
    "df_shanghai['unit_price'] = df_shanghai.unit_price.replace('价格待定', np.nan)"
   ]
  },
  {
   "cell_type": "code",
   "execution_count": 248,
   "metadata": {},
   "outputs": [],
   "source": [
    "col_list = [ 'unit_price', 'area_min', 'area_max', 'total_price_min', 'total_price_max']"
   ]
  },
  {
   "cell_type": "code",
   "execution_count": 249,
   "metadata": {},
   "outputs": [],
   "source": [
    "df_shanghai[col_list] = df_shanghai[col_list].astype('float')"
   ]
  },
  {
   "cell_type": "code",
   "execution_count": 251,
   "metadata": {},
   "outputs": [],
   "source": [
    "df_shanghai.to_csv('sh_new_clean.csv')"
   ]
  }
 ],
 "metadata": {
  "kernelspec": {
   "display_name": "Python 3",
   "language": "python",
   "name": "python3"
  },
  "language_info": {
   "codemirror_mode": {
    "name": "ipython",
    "version": 3
   },
   "file_extension": ".py",
   "mimetype": "text/x-python",
   "name": "python",
   "nbconvert_exporter": "python",
   "pygments_lexer": "ipython3",
   "version": "3.7.3"
  }
 },
 "nbformat": 4,
 "nbformat_minor": 2
}
